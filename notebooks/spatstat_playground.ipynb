{
 "cells": [
  {
   "cell_type": "markdown",
   "id": "87a29008",
   "metadata": {},
   "source": [
    "# Spatstat playground\n",
    "\n",
    "Let's play with the [`spatstat`](https://spatstat.org/) (Spatial Statistics) R package from Python! \n",
    "\n",
    "To do this, one can use the Python package [`rpy2`](https://rpy2.github.io/doc/v3.4.x/html/overview.html#installation) to ensure the interoperability with [`R`](https://www.r-project.org/).\n",
    "In other words, `rpy2` allows us to call `R` from `Python`.\n",
    "\n",
    "Documentation\n",
    "- [spatstat.core](https://www.rdocumentation.org/packages/spatstat.core/versions/2.2-0)\n",
    "- [spatstat.geom](https://www.rdocumentation.org/packages/spatstat.core/versions/2.2-0)\n",
    "\n",
    "[GitHub spatstat](https://github.com/spatstat/spatstat)"
   ]
  },
  {
   "cell_type": "code",
   "execution_count": null,
   "id": "a0bb8888",
   "metadata": {
    "ExecuteTime": {
     "end_time": "2021-06-18T07:20:24.257237Z",
     "start_time": "2021-06-18T07:20:24.225048Z"
    }
   },
   "outputs": [],
   "source": [
    "%config InlineBackend.figure_format='retina'\n",
    "\n",
    "%load_ext autoreload\n",
    "%autoreload 2\n",
    "import os\n",
    "import sys\n",
    "sys.path.insert(0, os.path.abspath('../src/'))"
   ]
  },
  {
   "cell_type": "code",
   "execution_count": null,
   "id": "1fc6aaef",
   "metadata": {
    "ExecuteTime": {
     "end_time": "2021-06-18T07:20:25.586654Z",
     "start_time": "2021-06-18T07:20:24.798381Z"
    }
   },
   "outputs": [],
   "source": [
    "import numpy as np\n",
    "import matplotlib.pyplot as plt\n",
    "\n",
    "from rpy2.robjects import numpy2ri\n",
    "numpy2ri.activate() #numpy2ri.deactivate()"
   ]
  },
  {
   "cell_type": "code",
   "execution_count": null,
   "id": "12a668fb",
   "metadata": {
    "ExecuteTime": {
     "end_time": "2021-06-18T07:20:29.140555Z",
     "start_time": "2021-06-18T07:20:25.589038Z"
    }
   },
   "outputs": [],
   "source": [
    "from spatstat_interface.interface import SpatstatInterface\n",
    "spatstat = SpatstatInterface(update=True)"
   ]
  },
  {
   "cell_type": "code",
   "execution_count": null,
   "id": "045db027",
   "metadata": {
    "ExecuteTime": {
     "end_time": "2021-06-18T07:20:29.160306Z",
     "start_time": "2021-06-18T07:20:29.143806Z"
    }
   },
   "outputs": [],
   "source": [
    "spatstat.core"
   ]
  },
  {
   "cell_type": "code",
   "execution_count": null,
   "id": "233576bd",
   "metadata": {
    "ExecuteTime": {
     "end_time": "2021-06-18T07:20:32.840125Z",
     "start_time": "2021-06-18T07:20:29.162417Z"
    }
   },
   "outputs": [],
   "source": [
    "spatstat.import_package(\"core\", \"geom\", update=False)"
   ]
  },
  {
   "cell_type": "code",
   "execution_count": null,
   "id": "f55febfa",
   "metadata": {
    "ExecuteTime": {
     "end_time": "2021-06-18T07:20:32.860034Z",
     "start_time": "2021-06-18T07:20:32.841766Z"
    }
   },
   "outputs": [],
   "source": [
    "spatstat.core"
   ]
  },
  {
   "cell_type": "markdown",
   "id": "853f5e52",
   "metadata": {},
   "source": [
    "## DPPs with stationnary isotropic kernels"
   ]
  },
  {
   "cell_type": "markdown",
   "id": "9e2ebff9",
   "metadata": {},
   "source": [
    "## Gaussian kernel\n",
    "\n",
    "$K(x, y) = \\rho \\exp(−\\|\\frac{x}{\\alpha}\\|^2)$\n",
    "\n",
    "$\\rho_{\\text{\\max}} = \\left(\\sqrt{\\pi \\alpha}\\right)^{-d}$"
   ]
  },
  {
   "cell_type": "code",
   "execution_count": null,
   "id": "224b12fd",
   "metadata": {
    "ExecuteTime": {
     "end_time": "2021-06-18T07:20:32.895075Z",
     "start_time": "2021-06-18T07:20:32.862183Z"
    }
   },
   "outputs": [],
   "source": [
    "d = 2\n",
    "alpha = 0.05\n",
    "rho_max = np.sqrt(np.pi * alpha)**(-d)\n",
    "rho = 100\n",
    "# assert rho <= rho_max\n",
    "\n",
    "param = {\"lambda\": rho, \"alpha\": alpha, \"d\": d}\n",
    "my_dpp = spatstat.core.dppGauss(**param)\n",
    "my_dpp"
   ]
  },
  {
   "cell_type": "markdown",
   "id": "b4ce6199",
   "metadata": {},
   "source": [
    "### Pair correlation function"
   ]
  },
  {
   "cell_type": "code",
   "execution_count": null,
   "id": "54974197",
   "metadata": {
    "ExecuteTime": {
     "end_time": "2021-06-18T07:20:32.916023Z",
     "start_time": "2021-06-18T07:20:32.898194Z"
    }
   },
   "outputs": [],
   "source": [
    "pcf = spatstat.core.pcfmodel(my_dpp)"
   ]
  },
  {
   "cell_type": "code",
   "execution_count": null,
   "id": "d8cac4a6",
   "metadata": {
    "ExecuteTime": {
     "end_time": "2021-06-18T07:20:49.255521Z",
     "start_time": "2021-06-18T07:20:49.058079Z"
    }
   },
   "outputs": [],
   "source": [
    "fig, ax = plt.subplots()\n",
    "r = np.linspace(0, 0.3, 1000)\n",
    "ax.plot(r, pcf(r))"
   ]
  },
  {
   "cell_type": "markdown",
   "id": "78c220d4",
   "metadata": {},
   "source": [
    "### Simulation"
   ]
  },
  {
   "cell_type": "code",
   "execution_count": null,
   "id": "51a5ea64",
   "metadata": {
    "ExecuteTime": {
     "end_time": "2021-06-18T07:21:32.401304Z",
     "start_time": "2021-06-18T07:21:32.377005Z"
    }
   },
   "outputs": [],
   "source": [
    "bound = np.array([0, 2])\n",
    "window = spatstat.geom.boxx(bound, bound)\n",
    "window"
   ]
  },
  {
   "cell_type": "code",
   "execution_count": null,
   "id": "bc3bb27c",
   "metadata": {
    "ExecuteTime": {
     "end_time": "2021-06-18T07:21:37.046307Z",
     "start_time": "2021-06-18T07:21:33.088182Z"
    }
   },
   "outputs": [],
   "source": [
    "rsample = spatstat.core.simulate_dppm(my_dpp, W=window)"
   ]
  },
  {
   "cell_type": "code",
   "execution_count": null,
   "id": "2251681e",
   "metadata": {
    "ExecuteTime": {
     "end_time": "2021-06-18T07:21:38.849837Z",
     "start_time": "2021-06-18T07:21:38.830856Z"
    }
   },
   "outputs": [],
   "source": [
    "sample = np.array([rsample.rx2(coor) for coor in [\"x\", \"y\"]])"
   ]
  },
  {
   "cell_type": "code",
   "execution_count": null,
   "id": "002ef23f",
   "metadata": {
    "ExecuteTime": {
     "end_time": "2021-06-18T07:21:39.570238Z",
     "start_time": "2021-06-18T07:21:39.265026Z"
    }
   },
   "outputs": [],
   "source": [
    "fig, ax = plt.subplots(figsize=(12, 12))\n",
    "r = np.linspace(0, 0.3, 1000)\n",
    "ax.scatter(*sample)\n",
    "ax.set_aspect('equal', 'box')"
   ]
  },
  {
   "cell_type": "markdown",
   "id": "8a341988",
   "metadata": {},
   "source": [
    "### Estimation"
   ]
  },
  {
   "cell_type": "code",
   "execution_count": null,
   "id": "a4dc83a5",
   "metadata": {
    "ExecuteTime": {
     "end_time": "2021-06-18T07:11:34.101718Z",
     "start_time": "2021-06-18T07:11:34.075393Z"
    }
   },
   "outputs": [],
   "source": [
    "ppp = spatstat.geom.ppp(*sample)"
   ]
  },
  {
   "cell_type": "code",
   "execution_count": null,
   "id": "9dc5e913",
   "metadata": {},
   "outputs": [],
   "source": []
  }
 ],
 "metadata": {
  "kernelspec": {
   "display_name": "Python 3",
   "language": "python",
   "name": "python3"
  },
  "language_info": {
   "codemirror_mode": {
    "name": "ipython",
    "version": 3
   },
   "file_extension": ".py",
   "mimetype": "text/x-python",
   "name": "python",
   "nbconvert_exporter": "python",
   "pygments_lexer": "ipython3",
   "version": "3.8.5"
  },
  "toc": {
   "base_numbering": 1,
   "nav_menu": {},
   "number_sections": true,
   "sideBar": true,
   "skip_h1_title": false,
   "title_cell": "Table of Contents",
   "title_sidebar": "Contents",
   "toc_cell": false,
   "toc_position": {},
   "toc_section_display": true,
   "toc_window_display": false
  }
 },
 "nbformat": 4,
 "nbformat_minor": 5
}
