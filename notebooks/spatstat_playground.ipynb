{
 "cells": [
  {
   "cell_type": "markdown",
   "id": "4718e2ba",
   "metadata": {},
   "source": [
    "# Spatstat playground\n",
    "\n",
    "Let's play with the [`spatstat`](https://spatstat.org/) (Spatial Statistics) R package from Python! \n",
    "\n",
    "To do this, one can use the Python package [`rpy2`](https://rpy2.github.io/doc/v3.4.x/html/overview.html#installation) to ensure the interoperability with [`R`](https://www.r-project.org/).\n",
    "In other words, `rpy2` allows us to call `R` from `Python`."
   ]
  },
  {
   "cell_type": "code",
   "execution_count": null,
   "id": "f29e3637",
   "metadata": {
    "ExecuteTime": {
     "end_time": "2021-06-17T09:05:17.332127Z",
     "start_time": "2021-06-17T09:05:17.299411Z"
    }
   },
   "outputs": [],
   "source": [
    "%config InlineBackend.figure_format='retina'\n",
    "\n",
    "%load_ext autoreload\n",
    "%autoreload 2\n",
    "import os\n",
    "import sys\n",
    "sys.path.insert(0, os.path.abspath('../src/'))"
   ]
  },
  {
   "cell_type": "code",
   "execution_count": null,
   "id": "13fd227c",
   "metadata": {
    "ExecuteTime": {
     "end_time": "2021-06-17T09:05:18.545069Z",
     "start_time": "2021-06-17T09:05:17.806336Z"
    }
   },
   "outputs": [],
   "source": [
    "from spatstat_interface.interface import SpatstatInterface\n",
    "\n",
    "spatstat = SpatstatInterface(update=False)"
   ]
  },
  {
   "cell_type": "code",
   "execution_count": null,
   "id": "542db901",
   "metadata": {
    "ExecuteTime": {
     "end_time": "2021-06-17T09:05:18.560623Z",
     "start_time": "2021-06-17T09:05:18.547083Z"
    }
   },
   "outputs": [],
   "source": [
    "spatstat.core"
   ]
  },
  {
   "cell_type": "code",
   "execution_count": null,
   "id": "5cd773cf",
   "metadata": {
    "ExecuteTime": {
     "end_time": "2021-06-17T09:05:21.206717Z",
     "start_time": "2021-06-17T09:05:18.563210Z"
    }
   },
   "outputs": [],
   "source": [
    "spatstat.import_package(\"core\", \"geom\", update=False)"
   ]
  },
  {
   "cell_type": "code",
   "execution_count": null,
   "id": "de8538d5",
   "metadata": {
    "ExecuteTime": {
     "end_time": "2021-06-17T09:05:21.228872Z",
     "start_time": "2021-06-17T09:05:21.209464Z"
    }
   },
   "outputs": [],
   "source": [
    "spatstat.core"
   ]
  },
  {
   "cell_type": "code",
   "execution_count": null,
   "id": "91a18bb2",
   "metadata": {},
   "outputs": [],
   "source": []
  }
 ],
 "metadata": {
  "kernelspec": {
   "display_name": "Python 3",
   "language": "python",
   "name": "python3"
  },
  "language_info": {
   "codemirror_mode": {
    "name": "ipython",
    "version": 3
   },
   "file_extension": ".py",
   "mimetype": "text/x-python",
   "name": "python",
   "nbconvert_exporter": "python",
   "pygments_lexer": "ipython3",
   "version": "3.8.5"
  }
 },
 "nbformat": 4,
 "nbformat_minor": 5
}
