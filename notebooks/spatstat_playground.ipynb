{
 "cells": [
  {
   "cell_type": "markdown",
   "id": "ce8b56d2",
   "metadata": {
    "toc": true
   },
   "source": [
    "<h1>Table of Contents<span class=\"tocSkip\"></span></h1>\n",
    "<div class=\"toc\"><ul class=\"toc-item\"><li><span><a href=\"#Spatstat-playground\" data-toc-modified-id=\"Spatstat-playground-1\"><span class=\"toc-item-num\">1&nbsp;&nbsp;</span>Spatstat playground</a></span><ul class=\"toc-item\"><li><span><a href=\"#DPPs-with-stationnary-isotropic-kernels\" data-toc-modified-id=\"DPPs-with-stationnary-isotropic-kernels-1.1\"><span class=\"toc-item-num\">1.1&nbsp;&nbsp;</span>DPPs with stationnary isotropic kernels</a></span><ul class=\"toc-item\"><li><span><a href=\"#Gaussian-kernel\" data-toc-modified-id=\"Gaussian-kernel-1.1.1\"><span class=\"toc-item-num\">1.1.1&nbsp;&nbsp;</span>Gaussian kernel</a></span><ul class=\"toc-item\"><li><span><a href=\"#Pair-correlation-function\" data-toc-modified-id=\"Pair-correlation-function-1.1.1.1\"><span class=\"toc-item-num\">1.1.1.1&nbsp;&nbsp;</span>Pair correlation function</a></span></li><li><span><a href=\"#Simulation\" data-toc-modified-id=\"Simulation-1.1.1.2\"><span class=\"toc-item-num\">1.1.1.2&nbsp;&nbsp;</span>Simulation</a></span></li><li><span><a href=\"#Estimation\" data-toc-modified-id=\"Estimation-1.1.1.3\"><span class=\"toc-item-num\">1.1.1.3&nbsp;&nbsp;</span>Estimation</a></span></li><li><span><a href=\"#Kernel-parameter-estimation-for-a-sample\" data-toc-modified-id=\"Kernel-parameter-estimation-for-a-sample-1.1.1.4\"><span class=\"toc-item-num\">1.1.1.4&nbsp;&nbsp;</span>Kernel parameter estimation for a sample</a></span></li></ul></li></ul></li></ul></li></ul></div>"
   ]
  },
  {
   "cell_type": "markdown",
   "id": "87a29008",
   "metadata": {},
   "source": [
    "# Spatstat playground\n",
    "\n",
    "**First session Friday 06/18/2021** https://github.com/For-a-few-DPPs-more/spatstat-interface\n",
    "\n",
    "Let's take Determinantal Point Processes (DPPs) as a running example to play with the [`spatstat`](https://spatstat.org/) (Spatial Statistics) R package from Python!\n",
    "More specifically, we'll perform both sampling and inference on DPPs using `spatstat`.\n",
    "\n",
    "To do this, one can use the Python package [`rpy2`](https://rpy2.github.io/doc/v3.4.x/html/overview.html#installation) to ensure the interoperability with [`R`](https://www.r-project.org/).\n",
    "In other words, `rpy2` allows us to call `R` from `Python`.\n",
    "\n",
    "`spatstat` has been split into multiple subpackages and extensions, see [`spatstat` GitHub repo](https://github.com/spatstat/spatstat).\n",
    "In this notebook will make use of\n",
    "- [spatstat.core](https://www.rdocumentation.org/packages/spatstat.core/versions/2.2-0)\n",
    "- [spatstat.geom](https://www.rdocumentation.org/packages/spatstat.core/versions/2.2-0)"
   ]
  },
  {
   "cell_type": "code",
   "execution_count": 1,
   "id": "1fc6aaef",
   "metadata": {
    "ExecuteTime": {
     "end_time": "2021-06-21T05:46:24.669102Z",
     "start_time": "2021-06-21T05:46:23.572093Z"
    }
   },
   "outputs": [],
   "source": [
    "import numpy as np\n",
    "import matplotlib.pyplot as plt\n",
    "%config InlineBackend.figure_format='retina'\n",
    "import pandas as pd\n",
    "\n",
    "import rpy2.robjects as robjects\n",
    "# Activate automatic conversion of numpy floats and arrays to corresponding R objects\n",
    "from rpy2.robjects import numpy2ri\n",
    "numpy2ri.activate() #numpy2ri.deactivate()"
   ]
  },
  {
   "cell_type": "markdown",
   "id": "4b3f9214",
   "metadata": {},
   "source": [
    "In order to interact with the source code stored in the `'../src/'` directory and make the latest version avalaible in the notebook, please run the following cell."
   ]
  },
  {
   "cell_type": "code",
   "execution_count": 2,
   "id": "a0bb8888",
   "metadata": {
    "ExecuteTime": {
     "end_time": "2021-06-21T05:46:24.692873Z",
     "start_time": "2021-06-21T05:46:24.672092Z"
    }
   },
   "outputs": [],
   "source": [
    "%load_ext autoreload\n",
    "%autoreload 2\n",
    "import os\n",
    "import sys\n",
    "sys.path.insert(0, os.path.abspath('../src/'))"
   ]
  },
  {
   "cell_type": "code",
   "execution_count": 3,
   "id": "6ae1a59c",
   "metadata": {
    "ExecuteTime": {
     "end_time": "2021-06-21T05:46:41.075824Z",
     "start_time": "2021-06-21T05:46:24.696559Z"
    }
   },
   "outputs": [
    {
     "name": "stderr",
     "output_type": "stream",
     "text": [
      "R[write to console]: trying URL 'https://cloud.r-project.org/bin/macosx/contrib/4.1/spatstat_2.1-0.tgz'\n",
      "\n",
      "R[write to console]: Content type 'application/x-gzip'\n",
      "R[write to console]:  length 3582252 bytes (3.4 MB)\n",
      "\n",
      "R[write to console]: =\n",
      "R[write to console]: =\n",
      "R[write to console]: =\n",
      "R[write to console]: =\n",
      "R[write to console]: =\n",
      "R[write to console]: =\n",
      "R[write to console]: =\n",
      "R[write to console]: =\n",
      "R[write to console]: =\n",
      "R[write to console]: =\n",
      "R[write to console]: =\n",
      "R[write to console]: =\n",
      "R[write to console]: =\n",
      "R[write to console]: =\n",
      "R[write to console]: =\n",
      "R[write to console]: =\n",
      "R[write to console]: =\n",
      "R[write to console]: =\n",
      "R[write to console]: =\n",
      "R[write to console]: =\n",
      "R[write to console]: =\n",
      "R[write to console]: =\n",
      "R[write to console]: =\n",
      "R[write to console]: =\n",
      "R[write to console]: =\n",
      "R[write to console]: =\n",
      "R[write to console]: =\n",
      "R[write to console]: =\n",
      "R[write to console]: =\n",
      "R[write to console]: =\n",
      "R[write to console]: =\n",
      "R[write to console]: =\n",
      "R[write to console]: =\n",
      "R[write to console]: =\n",
      "R[write to console]: =\n",
      "R[write to console]: =\n",
      "R[write to console]: =\n",
      "R[write to console]: =\n",
      "R[write to console]: =\n",
      "R[write to console]: =\n",
      "R[write to console]: =\n",
      "R[write to console]: =\n",
      "R[write to console]: =\n",
      "R[write to console]: =\n",
      "R[write to console]: =\n",
      "R[write to console]: =\n",
      "R[write to console]: =\n",
      "R[write to console]: =\n",
      "R[write to console]: =\n",
      "R[write to console]: =\n",
      "R[write to console]: \n",
      "\n",
      "R[write to console]: downloaded 3.4 MB\n",
      "\n",
      "\n"
     ]
    },
    {
     "name": "stdout",
     "output_type": "stream",
     "text": [
      "\n",
      "The downloaded binary packages are in\n",
      "\t/var/folders/y7/jwxfdr9j79sck85dryxmpd3c0000gn/T//RtmpqeDrS4/downloaded_packages\n"
     ]
    }
   ],
   "source": [
    "from spatstat_interface.utils import convert_r_df_to_pandas_df\n",
    "from spatstat_interface.interface import SpatstatInterface\n",
    "\n",
    "spatstat = SpatstatInterface(update=True)\n",
    "spatstat.import_package(\"core\", \"geom\", update=False)"
   ]
  },
  {
   "cell_type": "markdown",
   "id": "853f5e52",
   "metadata": {},
   "source": [
    "## DPPs with stationnary isotropic kernels"
   ]
  },
  {
   "cell_type": "markdown",
   "id": "9e2ebff9",
   "metadata": {},
   "source": [
    "### Gaussian kernel\n",
    "\n",
    "$K(x, y) = \\rho \\exp(−\\|\\frac{x - y}{\\alpha}\\|^2)$\n",
    "\n",
    "$\\rho_{\\max} = \\left(\\sqrt{\\pi} \\alpha\\right)^{-d}$"
   ]
  },
  {
   "cell_type": "code",
   "execution_count": 4,
   "id": "224b12fd",
   "metadata": {
    "ExecuteTime": {
     "end_time": "2021-06-21T05:46:41.107878Z",
     "start_time": "2021-06-21T05:46:41.078459Z"
    }
   },
   "outputs": [
    {
     "data": {
      "text/html": [
       "\n",
       "        <span>ListVector with 17 elements.</span>\n",
       "        <table>\n",
       "        <tbody>\n",
       "        \n",
       "          <tr>\n",
       "            <th>\n",
       "            fixedpar\n",
       "            </th>\n",
       "            <td>\n",
       "            \n",
       "        <span>ListVector with 3 elements.</span>\n",
       "        <table>\n",
       "        <tbody>\n",
       "        \n",
       "          <tr>\n",
       "            <th>\n",
       "            lambda\n",
       "            </th>\n",
       "            <td>\n",
       "            <rpy2.rinterface.IntSexpVector object at 0x7fdd62552a40> [RTYPES.INTSXP]\n",
       "            </td>\n",
       "          </tr>\n",
       "        \n",
       "          <tr>\n",
       "            <th>\n",
       "            alpha\n",
       "            </th>\n",
       "            <td>\n",
       "            <rpy2.rinterface.FloatSexpVector object at 0x7fdd5095b480> [RTYPES.REALSXP]\n",
       "            </td>\n",
       "          </tr>\n",
       "        \n",
       "          <tr>\n",
       "            <th>\n",
       "            d\n",
       "            </th>\n",
       "            <td>\n",
       "            <rpy2.rinterface.IntSexpVector object at 0x7fdd5095bb80> [RTYPES.INTSXP]\n",
       "            </td>\n",
       "          </tr>\n",
       "        \n",
       "        </tbody>\n",
       "        </table>\n",
       "        \n",
       "            </td>\n",
       "          </tr>\n",
       "        \n",
       "          <tr>\n",
       "            <th>\n",
       "            freepar\n",
       "            </th>\n",
       "            <td>\n",
       "            \n",
       "        <span>StrVector with 0 elements.</span>\n",
       "        <table>\n",
       "        <tbody>\n",
       "          <tr>\n",
       "          \n",
       "          </tr>\n",
       "        </tbody>\n",
       "        </table>\n",
       "        \n",
       "            </td>\n",
       "          </tr>\n",
       "        \n",
       "          <tr>\n",
       "            <th>\n",
       "            kernel\n",
       "            </th>\n",
       "            <td>\n",
       "            function (x, lambda, alpha, d) \n",
       "{\n",
       "    rslt <- lambda * exp(-(x/alpha)^2)\n",
       "    return(rslt)\n",
       "}\n",
       "<environment: namespace:spatstat.core>\n",
       "\n",
       "            </td>\n",
       "          </tr>\n",
       "        \n",
       "          <tr>\n",
       "            <th>\n",
       "            ...\n",
       "            </th>\n",
       "            <td>\n",
       "            ...\n",
       "            </td>\n",
       "          </tr>\n",
       "        \n",
       "          <tr>\n",
       "            <th>\n",
       "            isotropic\n",
       "            </th>\n",
       "            <td>\n",
       "            \n",
       "        <span>BoolVector with 1 elements.</span>\n",
       "        <table>\n",
       "        <tbody>\n",
       "          <tr>\n",
       "          \n",
       "            <td>\n",
       "                   1\n",
       "            </td>\n",
       "          \n",
       "          </tr>\n",
       "        </tbody>\n",
       "        </table>\n",
       "        \n",
       "            </td>\n",
       "          </tr>\n",
       "        \n",
       "          <tr>\n",
       "            <th>\n",
       "            caller\n",
       "            </th>\n",
       "            <td>\n",
       "            Gaussian determinantal point process model family\n",
       "The parameters of the family are:\n",
       "lambda, alpha, d\n",
       "\n",
       "            </td>\n",
       "          </tr>\n",
       "        \n",
       "          <tr>\n",
       "            <th>\n",
       "            basis\n",
       "            </th>\n",
       "            <td>\n",
       "            \n",
       "        <span>StrVector with 1 elements.</span>\n",
       "        <table>\n",
       "        <tbody>\n",
       "          <tr>\n",
       "          \n",
       "            <td>\n",
       "            'fourierbasis'\n",
       "            </td>\n",
       "          \n",
       "          </tr>\n",
       "        </tbody>\n",
       "        </table>\n",
       "        \n",
       "            </td>\n",
       "          </tr>\n",
       "        \n",
       "        </tbody>\n",
       "        </table>\n",
       "        "
      ],
      "text/plain": [
       "<rpy2.robjects.vectors.ListVector object at 0x7fdd62552cc0> [RTYPES.VECSXP]\n",
       "R classes: ('detpointprocfamily',)\n",
       "[ListSexpV..., StrSexpVe..., SexpClosure, SexpClosure, ..., SexpClosure, BoolSexpV..., SexpClosure, StrSexpVe...]\n",
       "<rpy2.robjects.vectors.ListVector object at 0x7fdd62552cc0> [RTYPES.VECSXP]\n",
       "R classes: ('detpointprocfamily',)\n",
       "[ListSexpV..., StrSexpVe..., SexpClosure, SexpClosure, ..., SexpClosure, BoolSexpV..., SexpClosure, StrSexpVe...]\n",
       "  freepar: <class 'rpy2.robjects.vectors.StrVector'>\n",
       "  <rpy2.robjects.vectors.StrVector object at 0x7fdd62caa200> [RTYPES.STRSXP]\n",
       "R classes: ('character',)\n",
       "[]\n",
       "  kernel: <class 'rpy2.robjects.functions.SignatureTranslatedFunction'>\n",
       "  <rpy2.robjects.functions.SignatureTranslatedFunction object at 0x7fdd509b2700> [RTYPES.CLOSXP]\n",
       "R classes: ('function',)\n",
       "  specden: <class 'rpy2.robjects.functions.SignatureTranslatedFunction'>\n",
       "  <rpy2.robjects.functions.SignatureTranslatedFunction object at 0x7fdd61c78a40> [RTYPES.CLOSXP]\n",
       "R classes: ('function',)\n",
       "...\n",
       "  intensity: <class 'rpy2.robjects.functions.SignatureTranslatedFunction'>\n",
       "  <rpy2.robjects.functions.SignatureTranslatedFunction object at 0x7fdd509676c0> [RTYPES.CLOSXP]\n",
       "R classes: ('function',)\n",
       "  thin: <class 'rpy2.robjects.vectors.BoolVector'>\n",
       "  <rpy2.robjects.vectors.BoolVector object at 0x7fdd50939ec0> [RTYPES.LGLSXP]\n",
       "R classes: ('logical',)\n",
       "[       1]\n",
       "  dim: <class 'rpy2.robjects.functions.SignatureTranslatedFunction'>\n",
       "  <rpy2.robjects.functions.SignatureTranslatedFunction object at 0x7fdd50967980> [RTYPES.CLOSXP]\n",
       "R classes: ('detpointprocfamilyfun', 'pointprocfamilyfun', 'function')\n",
       "  name: <class 'rpy2.robjects.vectors.StrVector'>\n",
       "  <rpy2.robjects.vectors.StrVector object at 0x7fdd5093e600> [RTYPES.STRSXP]\n",
       "R classes: ('character',)\n",
       "['fourierbasis']"
      ]
     },
     "execution_count": 4,
     "metadata": {},
     "output_type": "execute_result"
    }
   ],
   "source": [
    "rho = 100\n",
    "alpha = 0.05\n",
    "d = 2\n",
    "rho_max = (np.sqrt(np.pi) * alpha)**(-d)\n",
    "assert rho <= rho_max\n",
    "\n",
    "# spatstat.core.dppGauss(lambda=, alpha=, d=)\n",
    "# However lambda is a reserved Python keyword\n",
    "# Let's circumvent the problem using a dictionnary\n",
    "params = {\"lambda\": rho, \"alpha\": alpha, \"d\": d}\n",
    "my_dpp = spatstat.core.dppGauss(**params)\n",
    "my_dpp"
   ]
  },
  {
   "cell_type": "markdown",
   "id": "9b7ed767",
   "metadata": {},
   "source": [
    "#### Pair correlation function"
   ]
  },
  {
   "cell_type": "markdown",
   "id": "aaa5f972",
   "metadata": {
    "ExecuteTime": {
     "end_time": "2021-06-18T17:01:08.431323Z",
     "start_time": "2021-06-18T17:01:08.416223Z"
    }
   },
   "source": [
    "##### Theoretical pcf"
   ]
  },
  {
   "cell_type": "code",
   "execution_count": 5,
   "id": "4f8f8967",
   "metadata": {
    "ExecuteTime": {
     "end_time": "2021-06-21T05:46:41.127504Z",
     "start_time": "2021-06-21T05:46:41.109876Z"
    }
   },
   "outputs": [],
   "source": [
    "pcf = spatstat.core.pcfmodel(my_dpp)"
   ]
  },
  {
   "cell_type": "code",
   "execution_count": 6,
   "id": "0d990557",
   "metadata": {
    "ExecuteTime": {
     "end_time": "2021-06-21T05:46:41.294538Z",
     "start_time": "2021-06-21T05:46:41.130506Z"
    }
   },
   "outputs": [
    {
     "data": {
      "text/plain": [
       "(0.0, 0.15)"
      ]
     },
     "execution_count": 6,
     "metadata": {},
     "output_type": "execute_result"
    },
    {
     "data": {
      "image/png": "[encoded data removed]",
      "text/plain": [
       "<Figure size 432x288 with 1 Axes>"
      ]
     },
     "metadata": {
      "image/png": {
       "height": 248,
       "width": 372
      },
      "needs_background": "light"
     },
     "output_type": "display_data"
    }
   ],
   "source": [
    "numpy2ri.activate()  # to call pcf on a numpy array\n",
    "fig, ax = plt.subplots()\n",
    "r = np.linspace(0, 0.3, 1000)\n",
    "ax.plot(r, pcf(r))\n",
    "ax.set_xlim(0, 0.15)"
   ]
  },
  {
   "cell_type": "markdown",
   "id": "73843f29",
   "metadata": {},
   "source": [
    "#### Simulation"
   ]
  },
  {
   "cell_type": "markdown",
   "id": "85efcd57",
   "metadata": {},
   "source": [
    "Define the window where the points will be sampled from"
   ]
  },
  {
   "cell_type": "code",
   "execution_count": 7,
   "id": "50f8334d",
   "metadata": {
    "ExecuteTime": {
     "end_time": "2021-06-21T05:46:41.321622Z",
     "start_time": "2021-06-21T05:46:41.297226Z"
    }
   },
   "outputs": [],
   "source": [
    "# using spatstat.geom.boxx\n",
    "numpy2ri.activate()\n",
    "bound = np.array([0, 2])\n",
    "window = spatstat.geom.boxx(bound, bound)\n",
    "\n",
    "# using spatstat.geom.owin\n",
    "bound = robjects.FloatVector([0, 2])\n",
    "window = spatstat.geom.owin(xrange=bound, yrange=bound)"
   ]
  },
  {
   "cell_type": "markdown",
   "id": "a0c6c893",
   "metadata": {},
   "source": [
    "Generate the sample using `spatstat.core.simulate_dppm`"
   ]
  },
  {
   "cell_type": "code",
   "execution_count": 8,
   "id": "b29fe47d",
   "metadata": {
    "ExecuteTime": {
     "end_time": "2021-06-21T05:46:46.514388Z",
     "start_time": "2021-06-21T05:46:41.323145Z"
    }
   },
   "outputs": [
    {
     "data": {
      "text/html": [
       "\n",
       "        <span>ListVector with 5 elements.</span>\n",
       "        <table>\n",
       "        <tbody>\n",
       "        \n",
       "          <tr>\n",
       "            <th>\n",
       "            window\n",
       "            </th>\n",
       "            <td>\n",
       "            <rpy2.rinterface.ListSexpVector object at 0x7fdd633e2ec0> [RTYPES.VECSXP]\n",
       "            </td>\n",
       "          </tr>\n",
       "        \n",
       "          <tr>\n",
       "            <th>\n",
       "            n\n",
       "            </th>\n",
       "            <td>\n",
       "            <rpy2.rinterface.IntSexpVector object at 0x7fdd633e27c0> [RTYPES.INTSXP]\n",
       "            </td>\n",
       "          </tr>\n",
       "        \n",
       "          <tr>\n",
       "            <th>\n",
       "            x\n",
       "            </th>\n",
       "            <td>\n",
       "            <rpy2.rinterface.FloatSexpVector object at 0x7fdd633e2440> [RTYPES.REALSXP]\n",
       "            </td>\n",
       "          </tr>\n",
       "        \n",
       "          <tr>\n",
       "            <th>\n",
       "            y\n",
       "            </th>\n",
       "            <td>\n",
       "            <rpy2.rinterface.FloatSexpVector object at 0x7fdd633e2f40> [RTYPES.REALSXP]\n",
       "            </td>\n",
       "          </tr>\n",
       "        \n",
       "          <tr>\n",
       "            <th>\n",
       "            markformat\n",
       "            </th>\n",
       "            <td>\n",
       "            <rpy2.rinterface_lib.sexp.StrSexpVector object at 0x7fdd633e2fc0> [RTYPES.STRSXP]\n",
       "            </td>\n",
       "          </tr>\n",
       "        \n",
       "        </tbody>\n",
       "        </table>\n",
       "        "
      ],
      "text/plain": [
       "<rpy2.robjects.vectors.ListVector object at 0x7fdd633e2600> [RTYPES.VECSXP]\n",
       "R classes: ('ppp',)\n",
       "[ListSex..., IntSexp..., FloatSe..., FloatSe..., StrSexp...]\n",
       "  window: <class 'rpy2.rinterface.ListSexpVector'>\n",
       "  <rpy2.rinterface.ListSexpVector object at 0x7fdd633e2640> [RTYPES.VECSXP]\n",
       "  n: <class 'rpy2.rinterface.IntSexpVector'>\n",
       "  <rpy2.rinterface.IntSexpVector object at 0x7fdd633e2700> [RTYPES.INTSXP]\n",
       "  x: <class 'rpy2.rinterface.FloatSexpVector'>\n",
       "  <rpy2.rinterface.FloatSexpVector object at 0x7fdd633e2a40> [RTYPES.REALSXP]\n",
       "  y: <class 'rpy2.rinterface.FloatSexpVector'>\n",
       "  <rpy2.rinterface.FloatSexpVector object at 0x7fdd633e2c00> [RTYPES.REALSXP]\n",
       "  markformat: <class 'rpy2.rinterface_lib.sexp.StrSexpVector'>\n",
       "  <rpy2.rinterface_lib.sexp.StrSexpVector object at 0x7fdd633e2d40> [RTYPES.STRSXP]"
      ]
     },
     "execution_count": 8,
     "metadata": {},
     "output_type": "execute_result"
    }
   ],
   "source": [
    "rsample = spatstat.core.simulate_dppm(my_dpp, W=window)\n",
    "rsample"
   ]
  },
  {
   "cell_type": "markdown",
   "id": "431264ba",
   "metadata": {
    "ExecuteTime": {
     "end_time": "2021-06-18T15:38:16.096064Z",
     "start_time": "2021-06-18T15:38:16.069474Z"
    }
   },
   "source": [
    "Convert spatstat sample to a numpy.array (as if the sample was generated or imported using Python)"
   ]
  },
  {
   "cell_type": "code",
   "execution_count": 9,
   "id": "8f156c0c",
   "metadata": {
    "ExecuteTime": {
     "end_time": "2021-06-21T05:46:46.536051Z",
     "start_time": "2021-06-21T05:46:46.516201Z"
    }
   },
   "outputs": [
    {
     "data": {
      "text/plain": [
       "(2, 405)"
      ]
     },
     "execution_count": 9,
     "metadata": {},
     "output_type": "execute_result"
    }
   ],
   "source": [
    "sample = np.array([rsample.rx2(\"x\"), rsample.rx2(\"y\")])\n",
    "sample.shape"
   ]
  },
  {
   "cell_type": "markdown",
   "id": "0e500451",
   "metadata": {},
   "source": [
    "Display the sample"
   ]
  },
  {
   "cell_type": "code",
   "execution_count": 10,
   "id": "87f272da",
   "metadata": {
    "ExecuteTime": {
     "end_time": "2021-06-21T05:46:46.727985Z",
     "start_time": "2021-06-21T05:46:46.540014Z"
    }
   },
   "outputs": [
    {
     "data": {
      "image/png": "[encoded data removed]",
      "text/plain": [
       "<Figure size 576x576 with 1 Axes>"
      ]
     },
     "metadata": {
      "image/png": {
       "height": 465,
       "width": 476
      },
      "needs_background": "light"
     },
     "output_type": "display_data"
    }
   ],
   "source": [
    "fig, ax = plt.subplots(figsize=(8, 8))\n",
    "r = np.linspace(0, 0.3, 1000)\n",
    "ax.scatter(*sample) # equivalent to scatter(sample[0], sample[1])\n",
    "ax.set_aspect('equal', 'box')"
   ]
  },
  {
   "cell_type": "markdown",
   "id": "1247fb2c",
   "metadata": {},
   "source": [
    "#### Estimation"
   ]
  },
  {
   "cell_type": "markdown",
   "id": "bf61e786",
   "metadata": {},
   "source": [
    "From a sample generated by spatstat"
   ]
  },
  {
   "cell_type": "code",
   "execution_count": 11,
   "id": "525b791b",
   "metadata": {
    "ExecuteTime": {
     "end_time": "2021-06-21T05:46:46.854608Z",
     "start_time": "2021-06-21T05:46:46.730984Z"
    }
   },
   "outputs": [
    {
     "data": {
      "text/html": [
       "<div>\n",
       "<style scoped>\n",
       "    .dataframe tbody tr th:only-of-type {\n",
       "        vertical-align: middle;\n",
       "    }\n",
       "\n",
       "    .dataframe tbody tr th {\n",
       "        vertical-align: top;\n",
       "    }\n",
       "\n",
       "    .dataframe thead th {\n",
       "        text-align: right;\n",
       "    }\n",
       "</style>\n",
       "<table border=\"1\" class=\"dataframe\">\n",
       "  <thead>\n",
       "    <tr style=\"text-align: right;\">\n",
       "      <th></th>\n",
       "      <th>r</th>\n",
       "      <th>theo</th>\n",
       "      <th>trans</th>\n",
       "      <th>iso</th>\n",
       "    </tr>\n",
       "  </thead>\n",
       "  <tbody>\n",
       "    <tr>\n",
       "      <th>1</th>\n",
       "      <td>0.000000</td>\n",
       "      <td>1.0</td>\n",
       "      <td>inf</td>\n",
       "      <td>inf</td>\n",
       "    </tr>\n",
       "    <tr>\n",
       "      <th>2</th>\n",
       "      <td>0.000977</td>\n",
       "      <td>1.0</td>\n",
       "      <td>0.489096</td>\n",
       "      <td>0.487056</td>\n",
       "    </tr>\n",
       "    <tr>\n",
       "      <th>3</th>\n",
       "      <td>0.001953</td>\n",
       "      <td>1.0</td>\n",
       "      <td>0.297704</td>\n",
       "      <td>0.296253</td>\n",
       "    </tr>\n",
       "    <tr>\n",
       "      <th>4</th>\n",
       "      <td>0.002930</td>\n",
       "      <td>1.0</td>\n",
       "      <td>0.230381</td>\n",
       "      <td>0.229150</td>\n",
       "    </tr>\n",
       "    <tr>\n",
       "      <th>5</th>\n",
       "      <td>0.003906</td>\n",
       "      <td>1.0</td>\n",
       "      <td>0.194160</td>\n",
       "      <td>0.193057</td>\n",
       "    </tr>\n",
       "    <tr>\n",
       "      <th>...</th>\n",
       "      <td>...</td>\n",
       "      <td>...</td>\n",
       "      <td>...</td>\n",
       "      <td>...</td>\n",
       "    </tr>\n",
       "    <tr>\n",
       "      <th>509</th>\n",
       "      <td>0.496094</td>\n",
       "      <td>1.0</td>\n",
       "      <td>0.960549</td>\n",
       "      <td>0.965176</td>\n",
       "    </tr>\n",
       "    <tr>\n",
       "      <th>510</th>\n",
       "      <td>0.497070</td>\n",
       "      <td>1.0</td>\n",
       "      <td>0.957117</td>\n",
       "      <td>0.961266</td>\n",
       "    </tr>\n",
       "    <tr>\n",
       "      <th>511</th>\n",
       "      <td>0.498047</td>\n",
       "      <td>1.0</td>\n",
       "      <td>0.954180</td>\n",
       "      <td>0.957846</td>\n",
       "    </tr>\n",
       "    <tr>\n",
       "      <th>512</th>\n",
       "      <td>0.499023</td>\n",
       "      <td>1.0</td>\n",
       "      <td>0.951725</td>\n",
       "      <td>0.954676</td>\n",
       "    </tr>\n",
       "    <tr>\n",
       "      <th>513</th>\n",
       "      <td>0.500000</td>\n",
       "      <td>1.0</td>\n",
       "      <td>0.950424</td>\n",
       "      <td>0.952099</td>\n",
       "    </tr>\n",
       "  </tbody>\n",
       "</table>\n",
       "<p>513 rows × 4 columns</p>\n",
       "</div>"
      ],
      "text/plain": [
       "            r  theo     trans       iso\n",
       "1    0.000000   1.0       inf       inf\n",
       "2    0.000977   1.0  0.489096  0.487056\n",
       "3    0.001953   1.0  0.297704  0.296253\n",
       "4    0.002930   1.0  0.230381  0.229150\n",
       "5    0.003906   1.0  0.194160  0.193057\n",
       "..        ...   ...       ...       ...\n",
       "509  0.496094   1.0  0.960549  0.965176\n",
       "510  0.497070   1.0  0.957117  0.961266\n",
       "511  0.498047   1.0  0.954180  0.957846\n",
       "512  0.499023   1.0  0.951725  0.954676\n",
       "513  0.500000   1.0  0.950424  0.952099\n",
       "\n",
       "[513 rows x 4 columns]"
      ]
     },
     "execution_count": 11,
     "metadata": {},
     "output_type": "execute_result"
    }
   ],
   "source": [
    "# If numpy2ri.activate() the output of spatstat.core.pcf is automatically converted to a numpy array \n",
    "# Otherwise it is an R DataFrame that we can convert to a pandas DataFrame\n",
    "numpy2ri.deactivate()\n",
    "pcf_r = spatstat.core.pcf_ppp(rsample)\n",
    "pcf_df = convert_r_df_to_pandas_df(pcf_r)\n",
    "pcf_df"
   ]
  },
  {
   "cell_type": "code",
   "execution_count": 12,
   "id": "0e0ba09e",
   "metadata": {
    "ExecuteTime": {
     "end_time": "2021-06-21T05:46:47.013481Z",
     "start_time": "2021-06-21T05:46:46.856795Z"
    }
   },
   "outputs": [
    {
     "data": {
      "text/plain": [
       "(0.0, 0.15)"
      ]
     },
     "execution_count": 12,
     "metadata": {},
     "output_type": "execute_result"
    },
    {
     "data": {
      "image/png": "[encoded data removed]",
      "text/plain": [
       "<Figure size 432x288 with 1 Axes>"
      ]
     },
     "metadata": {
      "image/png": {
       "height": 261,
       "width": 372
      },
      "needs_background": "light"
     },
     "output_type": "display_data"
    }
   ],
   "source": [
    "fig, ax = plt.subplots()\n",
    "r = np.linspace(0, 0.3, 1000)\n",
    "numpy2ri.activate()\n",
    "ax.plot(r, pcf(r))\n",
    "pcf_df.plot(\"r\", \"iso\", ax=ax)\n",
    "ax.set_xlim(0, 0.15)"
   ]
  },
  {
   "cell_type": "markdown",
   "id": "62de39ed",
   "metadata": {},
   "source": [
    "From a sample stored in a numpy array"
   ]
  },
  {
   "cell_type": "code",
   "execution_count": 13,
   "id": "e6d875d4",
   "metadata": {
    "ExecuteTime": {
     "end_time": "2021-06-21T05:46:47.133723Z",
     "start_time": "2021-06-21T05:46:47.015460Z"
    }
   },
   "outputs": [
    {
     "data": {
      "text/html": [
       "<div>\n",
       "<style scoped>\n",
       "    .dataframe tbody tr th:only-of-type {\n",
       "        vertical-align: middle;\n",
       "    }\n",
       "\n",
       "    .dataframe tbody tr th {\n",
       "        vertical-align: top;\n",
       "    }\n",
       "\n",
       "    .dataframe thead th {\n",
       "        text-align: right;\n",
       "    }\n",
       "</style>\n",
       "<table border=\"1\" class=\"dataframe\">\n",
       "  <thead>\n",
       "    <tr style=\"text-align: right;\">\n",
       "      <th></th>\n",
       "      <th>r</th>\n",
       "      <th>theo</th>\n",
       "      <th>trans</th>\n",
       "      <th>iso</th>\n",
       "    </tr>\n",
       "  </thead>\n",
       "  <tbody>\n",
       "    <tr>\n",
       "      <th>1</th>\n",
       "      <td>0.000000</td>\n",
       "      <td>1.0</td>\n",
       "      <td>inf</td>\n",
       "      <td>inf</td>\n",
       "    </tr>\n",
       "    <tr>\n",
       "      <th>2</th>\n",
       "      <td>0.000977</td>\n",
       "      <td>1.0</td>\n",
       "      <td>0.489096</td>\n",
       "      <td>0.487056</td>\n",
       "    </tr>\n",
       "    <tr>\n",
       "      <th>3</th>\n",
       "      <td>0.001953</td>\n",
       "      <td>1.0</td>\n",
       "      <td>0.297704</td>\n",
       "      <td>0.296253</td>\n",
       "    </tr>\n",
       "    <tr>\n",
       "      <th>4</th>\n",
       "      <td>0.002930</td>\n",
       "      <td>1.0</td>\n",
       "      <td>0.230381</td>\n",
       "      <td>0.229150</td>\n",
       "    </tr>\n",
       "    <tr>\n",
       "      <th>5</th>\n",
       "      <td>0.003906</td>\n",
       "      <td>1.0</td>\n",
       "      <td>0.194160</td>\n",
       "      <td>0.193057</td>\n",
       "    </tr>\n",
       "    <tr>\n",
       "      <th>...</th>\n",
       "      <td>...</td>\n",
       "      <td>...</td>\n",
       "      <td>...</td>\n",
       "      <td>...</td>\n",
       "    </tr>\n",
       "    <tr>\n",
       "      <th>509</th>\n",
       "      <td>0.496094</td>\n",
       "      <td>1.0</td>\n",
       "      <td>0.960549</td>\n",
       "      <td>0.965176</td>\n",
       "    </tr>\n",
       "    <tr>\n",
       "      <th>510</th>\n",
       "      <td>0.497070</td>\n",
       "      <td>1.0</td>\n",
       "      <td>0.957117</td>\n",
       "      <td>0.961266</td>\n",
       "    </tr>\n",
       "    <tr>\n",
       "      <th>511</th>\n",
       "      <td>0.498047</td>\n",
       "      <td>1.0</td>\n",
       "      <td>0.954180</td>\n",
       "      <td>0.957846</td>\n",
       "    </tr>\n",
       "    <tr>\n",
       "      <th>512</th>\n",
       "      <td>0.499023</td>\n",
       "      <td>1.0</td>\n",
       "      <td>0.951725</td>\n",
       "      <td>0.954676</td>\n",
       "    </tr>\n",
       "    <tr>\n",
       "      <th>513</th>\n",
       "      <td>0.500000</td>\n",
       "      <td>1.0</td>\n",
       "      <td>0.950424</td>\n",
       "      <td>0.952099</td>\n",
       "    </tr>\n",
       "  </tbody>\n",
       "</table>\n",
       "<p>513 rows × 4 columns</p>\n",
       "</div>"
      ],
      "text/plain": [
       "            r  theo     trans       iso\n",
       "1    0.000000   1.0       inf       inf\n",
       "2    0.000977   1.0  0.489096  0.487056\n",
       "3    0.001953   1.0  0.297704  0.296253\n",
       "4    0.002930   1.0  0.230381  0.229150\n",
       "5    0.003906   1.0  0.194160  0.193057\n",
       "..        ...   ...       ...       ...\n",
       "509  0.496094   1.0  0.960549  0.965176\n",
       "510  0.497070   1.0  0.957117  0.961266\n",
       "511  0.498047   1.0  0.954180  0.957846\n",
       "512  0.499023   1.0  0.951725  0.954676\n",
       "513  0.500000   1.0  0.950424  0.952099\n",
       "\n",
       "[513 rows x 4 columns]"
      ]
     },
     "execution_count": 13,
     "metadata": {},
     "output_type": "execute_result"
    }
   ],
   "source": [
    "numpy2ri.activate()\n",
    "# Each row of `sample` is associated to a coordinate\n",
    "X = spatstat.geom.ppp(*sample, window=window)\n",
    "numpy2ri.deactivate()\n",
    "pcf_r = spatstat.core.pcf_ppp(X)\n",
    "pcf_df = convert_r_df_to_pandas_df(pcf_r)\n",
    "pcf_df"
   ]
  },
  {
   "cell_type": "code",
   "execution_count": 14,
   "id": "25d51ea6",
   "metadata": {
    "ExecuteTime": {
     "end_time": "2021-06-21T05:46:47.288669Z",
     "start_time": "2021-06-21T05:46:47.135453Z"
    }
   },
   "outputs": [
    {
     "data": {
      "text/plain": [
       "(0.0, 0.15)"
      ]
     },
     "execution_count": 14,
     "metadata": {},
     "output_type": "execute_result"
    },
    {
     "data": {
      "image/png": "[encoded data removed]",
      "text/plain": [
       "<Figure size 432x288 with 1 Axes>"
      ]
     },
     "metadata": {
      "image/png": {
       "height": 261,
       "width": 372
      },
      "needs_background": "light"
     },
     "output_type": "display_data"
    }
   ],
   "source": [
    "fig, ax = plt.subplots()\n",
    "r = np.linspace(0, 0.3, 1000)\n",
    "numpy2ri.activate()\n",
    "ax.plot(r, pcf(r))\n",
    "pcf_df.plot(\"r\", \"iso\", ax=ax)\n",
    "ax.set_xlim(0, 0.15)"
   ]
  },
  {
   "cell_type": "markdown",
   "id": "31f34d89",
   "metadata": {},
   "source": [
    "#### Kernel parameter estimation for a sample"
   ]
  },
  {
   "cell_type": "code",
   "execution_count": 15,
   "id": "69f72f3d",
   "metadata": {
    "ExecuteTime": {
     "end_time": "2021-06-21T05:46:47.304390Z",
     "start_time": "2021-06-21T05:46:47.290432Z"
    }
   },
   "outputs": [],
   "source": [
    "def convert_to_dict(x):\n",
    "    return dict(zip(x.names, x))"
   ]
  },
  {
   "cell_type": "markdown",
   "id": "f7eb9ecc",
   "metadata": {},
   "source": [
    "Recall the parameters of the original DPP"
   ]
  },
  {
   "cell_type": "code",
   "execution_count": 16,
   "id": "08967b6c",
   "metadata": {
    "ExecuteTime": {
     "end_time": "2021-06-21T05:46:47.324042Z",
     "start_time": "2021-06-21T05:46:47.306573Z"
    }
   },
   "outputs": [
    {
     "data": {
      "text/plain": [
       "{'lambda': array([100], dtype=int32),\n",
       " 'alpha': array([0.05]),\n",
       " 'd': array([2], dtype=int32)}"
      ]
     },
     "execution_count": 16,
     "metadata": {},
     "output_type": "execute_result"
    }
   ],
   "source": [
    "params = convert_to_dict(my_dpp.rx2(\"fixedpar\"))\n",
    "params"
   ]
  },
  {
   "cell_type": "markdown",
   "id": "2176f9d2",
   "metadata": {},
   "source": [
    "Fit a DPP from a sample"
   ]
  },
  {
   "cell_type": "code",
   "execution_count": 17,
   "id": "f62eb1a3",
   "metadata": {
    "ExecuteTime": {
     "end_time": "2021-06-21T05:46:47.783907Z",
     "start_time": "2021-06-21T05:46:47.325469Z"
    },
    "scrolled": true
   },
   "outputs": [
    {
     "data": {
      "text/plain": [
       "{'alpha': array([0.04944655]), 'lambda': array([101.25]), 'd': array([2.])}"
      ]
     },
     "execution_count": 17,
     "metadata": {},
     "output_type": "execute_result"
    }
   ],
   "source": [
    "dpp_family = spatstat.core.dppGauss\n",
    "formula = robjects.Formula(\"X ~ 1\")\n",
    "formula.environment[\"X\"] = rsample\n",
    "\n",
    "my_dpp_fitted = spatstat.core.dppm(formula=formula, family=dpp_family).rx2(\"fitted\")\n",
    "fitted_params = convert_to_dict(my_dpp_fitted.rx2(\"fixedpar\"))\n",
    "fitted_params"
   ]
  },
  {
   "cell_type": "code",
   "execution_count": 18,
   "id": "b7170d49",
   "metadata": {
    "ExecuteTime": {
     "end_time": "2021-06-21T05:46:47.803174Z",
     "start_time": "2021-06-21T05:46:47.785354Z"
    }
   },
   "outputs": [],
   "source": [
    "pcf_fitted_dpp = spatstat.core.pcfmodel(my_dpp_fitted)"
   ]
  },
  {
   "cell_type": "markdown",
   "id": "b3df22fe",
   "metadata": {},
   "source": [
    "Let's have a look at the correlation function."
   ]
  },
  {
   "cell_type": "code",
   "execution_count": 19,
   "id": "780400e8",
   "metadata": {
    "ExecuteTime": {
     "end_time": "2021-06-21T05:46:48.025048Z",
     "start_time": "2021-06-21T05:46:47.805445Z"
    }
   },
   "outputs": [
    {
     "data": {
      "text/plain": [
       "<matplotlib.legend.Legend at 0x7fdd497b0c70>"
      ]
     },
     "execution_count": 19,
     "metadata": {},
     "output_type": "execute_result"
    },
    {
     "data": {
      "image/png": "[encoded data removed]",
      "text/plain": [
       "<Figure size 432x288 with 1 Axes>"
      ]
     },
     "metadata": {
      "image/png": {
       "height": 261,
       "width": 372
      },
      "needs_background": "light"
     },
     "output_type": "display_data"
    }
   ],
   "source": [
    "fig, ax = plt.subplots()\n",
    "\n",
    "r = np.linspace(0, 0.3, 1000)\n",
    "numpy2ri.activate()\n",
    "ax.plot(r, pcf(r), label=\"original dpp\")\n",
    "pcf_df.plot(\"r\", \"iso\", ax=ax, label=\"empirical\")\n",
    "ax.plot(r, pcf_fitted_dpp(r), label=\"fitted dpp\")\n",
    "\n",
    "ax.set_xlim(0, 0.15)\n",
    "plt.legend()"
   ]
  },
  {
   "cell_type": "code",
   "execution_count": null,
   "id": "d91ef096",
   "metadata": {},
   "outputs": [],
   "source": []
  }
 ],
 "metadata": {
  "kernelspec": {
   "display_name": "Python 3",
   "language": "python",
   "name": "python3"
  },
  "language_info": {
   "codemirror_mode": {
    "name": "ipython",
    "version": 3
   },
   "file_extension": ".py",
   "mimetype": "text/x-python",
   "name": "python",
   "nbconvert_exporter": "python",
   "pygments_lexer": "ipython3",
   "version": "3.8.5"
  },
  "toc": {
   "base_numbering": 1,
   "nav_menu": {},
   "number_sections": true,
   "sideBar": true,
   "skip_h1_title": false,
   "title_cell": "Table of Contents",
   "title_sidebar": "Contents",
   "toc_cell": true,
   "toc_position": {
    "height": "calc(100% - 180px)",
    "left": "10px",
    "top": "150px",
    "width": "213.4px"
   },
   "toc_section_display": true,
   "toc_window_display": true
  }
 },
 "nbformat": 4,
 "nbformat_minor": 5
}
