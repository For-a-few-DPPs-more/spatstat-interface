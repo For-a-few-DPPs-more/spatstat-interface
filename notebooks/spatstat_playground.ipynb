{
 "cells": [
  {
   "cell_type": "markdown",
   "id": "7500b8d3",
   "metadata": {},
   "source": [
    "# spatstat-interface\n",
    "\n",
    "- GitHub https://github.com/For-a-few-DPPs-more/spatstat-interface\n",
    "- PyPI https://pypi.org/project/spatstat-interface"
   ]
  },
  {
   "cell_type": "markdown",
   "id": "0fbeb32e",
   "metadata": {},
   "source": [
    "## Run the notebook remotely\n",
    "\n",
    "If you're running the notebook remotely, e.g., on Google Colab, `spatstat-interface` and its dependencies need to be installed.\n",
    "\n",
    "To do this, uncomment and run one of the command below that suits best your needs."
   ]
  },
  {
   "cell_type": "code",
   "execution_count": 1,
   "id": "e4946a6d",
   "metadata": {},
   "outputs": [],
   "source": [
    "# You want to use the latest version published on PyPI there\n",
    "# !pip install spatstat-interface\n",
    "# You want to use the latest version of the source code available on GitHub\n",
    "# !pip install git+https://github.com/For-a-few-DPPs-more/spatstat-interface.git"
   ]
  },
  {
   "cell_type": "markdown",
   "id": "570b1e29",
   "metadata": {},
   "source": [
    "## Run the notebook locally\n",
    "\n",
    "If you're running the notebook on your local machine, please \n",
    "\n",
    "- follow the instructions provided in the [`notebooks/README.md`](https://github.com/For-a-few-DPPs-more/spatstat-interface/blob/main/notebooks/) file, \n",
    "- or fallback on the instructions given in [Run the notebook remotely](#run-the-notebook-remotely)."
   ]
  },
  {
   "cell_type": "markdown",
   "id": "73dc2910",
   "metadata": {},
   "source": [
    "---\n",
    "\n",
    "If you're working in development mode run the following cell to reflect changes made to the source files during the development phase."
   ]
  },
  {
   "cell_type": "code",
   "execution_count": 2,
   "id": "d6d57e50",
   "metadata": {
    "ExecuteTime": {
     "end_time": "2021-10-05T16:25:16.716097Z",
     "start_time": "2021-10-05T16:25:16.691238Z"
    }
   },
   "outputs": [],
   "source": [
    "%load_ext autoreload\n",
    "%autoreload 2"
   ]
  },
  {
   "cell_type": "markdown",
   "id": "113722eb",
   "metadata": {},
   "source": [
    "# Spatstat playground\n",
    "\n",
    "Let's take Determinantal Point Processes (DPPs) as a running example to play with the [`spatstat`](https://spatstat.org/) (Spatial Statistics) R package from Python!\n",
    "\n",
    "More specifically, we'll perform both sampling and inference on DPPs using `spatstat`.\n",
    "\n",
    "To do this, one can use the Python package [`rpy2`](https://rpy2.github.io/doc/v3.4.x/html/overview.html#installation) to ensure the interoperability with [`R`](https://www.r-project.org/).\n",
    "In other words, `rpy2` allows us to call `R` from `Python`."
   ]
  },
  {
   "cell_type": "code",
   "execution_count": 3,
   "id": "bb11d3ab",
   "metadata": {
    "ExecuteTime": {
     "end_time": "2021-10-05T16:25:17.049975Z",
     "start_time": "2021-10-05T16:25:17.019207Z"
    }
   },
   "outputs": [],
   "source": [
    "import numpy as np\n",
    "import matplotlib.pyplot as plt\n",
    "%config InlineBackend.figure_format='retina'\n",
    "\n",
    "import rpy2.robjects as robjects\n",
    "# Activate automatic conversion of numpy floats and arrays to corresponding R objects\n",
    "from rpy2.robjects import numpy2ri\n",
    "numpy2ri.activate() #numpy2ri.deactivate()"
   ]
  },
  {
   "cell_type": "markdown",
   "id": "c509f004",
   "metadata": {},
   "source": [
    "---\n",
    "\n",
    "`spatstat` has been split into multiple subpackages and extensions, see [`spatstat` GitHub repo](https://github.com/spatstat/spatstat).\n",
    "\n",
    "In this notebook will make use of\n",
    "- [spatstat.core](https://www.rdocumentation.org/packages/spatstat.core/versions/2.2-0)\n",
    "- [spatstat.geom](https://www.rdocumentation.org/packages/spatstat.core/versions/2.2-0)\n",
    "\n",
    "---\n",
    "\n",
    "Beware that R and Python have different syntax, hence few adaptations must be made when calling functions.\n",
    "See the \"Documentation\" section of the [`./README.md`](https://github.com/For-a-few-DPPs-more/spatstat-interface/blob/main/README.md#Documentation) file."
   ]
  },
  {
   "cell_type": "code",
   "execution_count": 4,
   "id": "1e513fc3",
   "metadata": {
    "ExecuteTime": {
     "end_time": "2021-10-05T16:25:27.298172Z",
     "start_time": "2021-10-05T16:25:17.424614Z"
    }
   },
   "outputs": [
    {
     "data": {
      "text/plain": [
       "'2.4-2'"
      ]
     },
     "execution_count": 4,
     "metadata": {},
     "output_type": "execute_result"
    }
   ],
   "source": [
    "from spatstat_interface.utils import to_pandas_data_frame\n",
    "from spatstat_interface.interface import SpatstatInterface\n",
    "\n",
    "spatstat = SpatstatInterface()  \n",
    "spatstat.import_package(\"core\", \"geom\", update=False)\n",
    "# On Google Colab use update=True\n",
    "# update=True to install if not already installed and make sure the latest versions are used\n",
    "spatstat.core.__version__ # >= 2.3-0"
   ]
  },
  {
   "cell_type": "markdown",
   "id": "73d6f511",
   "metadata": {},
   "source": [
    "## DPPs with stationary isotropic kernels"
   ]
  },
  {
   "cell_type": "markdown",
   "id": "fed00376",
   "metadata": {},
   "source": [
    "### Gaussian kernel\n",
    "\n",
    "$K(x, y) = \\rho \\exp(−\\|\\frac{x - y}{\\alpha}\\|^2)$\n",
    "\n",
    "$\\rho_{\\max} = \\left(\\sqrt{\\pi} \\alpha\\right)^{-d}$"
   ]
  },
  {
   "cell_type": "code",
   "execution_count": 5,
   "id": "349ea4bb",
   "metadata": {
    "ExecuteTime": {
     "end_time": "2021-06-21T05:46:41.107878Z",
     "start_time": "2021-06-21T05:46:41.078459Z"
    }
   },
   "outputs": [
    {
     "data": {
      "text/html": [
       "\n",
       "        <span>ListVector with 18 elements.</span>\n",
       "        <table>\n",
       "        <tbody>\n",
       "        \n",
       "          <tr>\n",
       "            <th>\n",
       "            fixedpar\n",
       "            </th>\n",
       "            <td>\n",
       "            \n",
       "        <span>ListVector with 3 elements.</span>\n",
       "        <table>\n",
       "        <tbody>\n",
       "        \n",
       "          <tr>\n",
       "            <th>\n",
       "            lambda\n",
       "            </th>\n",
       "            <td>\n",
       "            <rpy2.rinterface.IntSexpVector object at 0x7fdee8da2840> [RTYPES.INTSXP]\n",
       "            </td>\n",
       "          </tr>\n",
       "        \n",
       "          <tr>\n",
       "            <th>\n",
       "            alpha\n",
       "            </th>\n",
       "            <td>\n",
       "            <rpy2.rinterface.FloatSexpVector object at 0x7fdee8da4fc0> [RTYPES.REALSXP]\n",
       "            </td>\n",
       "          </tr>\n",
       "        \n",
       "          <tr>\n",
       "            <th>\n",
       "            d\n",
       "            </th>\n",
       "            <td>\n",
       "            <rpy2.rinterface.IntSexpVector object at 0x7fdee9032800> [RTYPES.INTSXP]\n",
       "            </td>\n",
       "          </tr>\n",
       "        \n",
       "        </tbody>\n",
       "        </table>\n",
       "        \n",
       "            </td>\n",
       "          </tr>\n",
       "        \n",
       "          <tr>\n",
       "            <th>\n",
       "            freepar\n",
       "            </th>\n",
       "            <td>\n",
       "            \n",
       "        <span>StrVector with 0 elements.</span>\n",
       "        <table>\n",
       "        <tbody>\n",
       "          <tr>\n",
       "          \n",
       "          </tr>\n",
       "        </tbody>\n",
       "        </table>\n",
       "        \n",
       "            </td>\n",
       "          </tr>\n",
       "        \n",
       "          <tr>\n",
       "            <th>\n",
       "            kernel\n",
       "            </th>\n",
       "            <td>\n",
       "            function (x, lambda, alpha, d) \n",
       "{\n",
       "    rslt <- lambda * exp(-(x/alpha)^2)\n",
       "    return(rslt)\n",
       "}\n",
       "<environment: namespace:spatstat.core>\n",
       "\n",
       "            </td>\n",
       "          </tr>\n",
       "        \n",
       "          <tr>\n",
       "            <th>\n",
       "            ...\n",
       "            </th>\n",
       "            <td>\n",
       "            ...\n",
       "            </td>\n",
       "          </tr>\n",
       "        \n",
       "          <tr>\n",
       "            <th>\n",
       "            caller\n",
       "            </th>\n",
       "            <td>\n",
       "            Gaussian determinantal point process model family\n",
       "The parameters of the family are:\n",
       "lambda, alpha, d\n",
       "\n",
       "            </td>\n",
       "          </tr>\n",
       "        \n",
       "          <tr>\n",
       "            <th>\n",
       "            basis\n",
       "            </th>\n",
       "            <td>\n",
       "            \n",
       "        <span>StrVector with 1 elements.</span>\n",
       "        <table>\n",
       "        <tbody>\n",
       "          <tr>\n",
       "          \n",
       "            <td>\n",
       "            'fourierbasis'\n",
       "            </td>\n",
       "          \n",
       "          </tr>\n",
       "        </tbody>\n",
       "        </table>\n",
       "        \n",
       "            </td>\n",
       "          </tr>\n",
       "        \n",
       "          <tr>\n",
       "            <th>\n",
       "            Dpcf\n",
       "            </th>\n",
       "            <td>\n",
       "            function (x, lambda, alpha, d) \n",
       "{\n",
       "    dalpha <- -4 * x^2/alpha^3 * exp(-(x/alpha)^2)^2\n",
       "    return(c(lambda = 0, alpha = dalpha))\n",
       "}\n",
       "<environment: namespace:spatstat.core>\n",
       "\n",
       "            </td>\n",
       "          </tr>\n",
       "        \n",
       "        </tbody>\n",
       "        </table>\n",
       "        "
      ],
      "text/plain": [
       "<rpy2.robjects.vectors.ListVector object at 0x7fdea9290840> [RTYPES.VECSXP]\n",
       "R classes: ('detpointprocfamily',)\n",
       "[ListSexpV..., StrSexpVe..., SexpClosure, SexpClosure, ..., BoolSexpV..., SexpClosure, StrSexpVe..., SexpClosure]\n",
       "<rpy2.robjects.vectors.ListVector object at 0x7fdea9290840> [RTYPES.VECSXP]\n",
       "R classes: ('detpointprocfamily',)\n",
       "[ListSexpV..., StrSexpVe..., SexpClosure, SexpClosure, ..., BoolSexpV..., SexpClosure, StrSexpVe..., SexpClosure]\n",
       "  freepar: <class 'rpy2.robjects.vectors.StrVector'>\n",
       "  <rpy2.robjects.vectors.StrVector object at 0x7fdea928e5c0> [RTYPES.STRSXP]\n",
       "R classes: ('character',)\n",
       "[]\n",
       "  kernel: <class 'rpy2.robjects.functions.SignatureTranslatedFunction'>\n",
       "  <rpy2.robjects.functions.SignatureTranslatedFunction object at 0x7fdef94a8540> [RTYPES.CLOSXP]\n",
       "R classes: ('function',)\n",
       "  specden: <class 'rpy2.robjects.functions.SignatureTranslatedFunction'>\n",
       "  <rpy2.robjects.functions.SignatureTranslatedFunction object at 0x7fdec9e0ee00> [RTYPES.CLOSXP]\n",
       "R classes: ('function',)\n",
       "...\n",
       "  intensity: <class 'rpy2.robjects.vectors.BoolVector'>\n",
       "  <rpy2.robjects.vectors.BoolVector object at 0x7fdea92a9240> [RTYPES.LGLSXP]\n",
       "R classes: ('logical',)\n",
       "[       1]\n",
       "  thin: <class 'rpy2.robjects.functions.SignatureTranslatedFunction'>\n",
       "  <rpy2.robjects.functions.SignatureTranslatedFunction object at 0x7fdee8da4c00> [RTYPES.CLOSXP]\n",
       "R classes: ('detpointprocfamilyfun', 'pointprocfamilyfun', 'function')\n",
       "  dim: <class 'rpy2.robjects.vectors.StrVector'>\n",
       "  <rpy2.robjects.vectors.StrVector object at 0x7fdee8e6ee00> [RTYPES.STRSXP]\n",
       "R classes: ('character',)\n",
       "['fourierbasis']\n",
       "  name: <class 'rpy2.robjects.functions.SignatureTranslatedFunction'>\n",
       "  <rpy2.robjects.functions.SignatureTranslatedFunction object at 0x7fdee8da2640> [RTYPES.CLOSXP]\n",
       "R classes: ('function',)"
      ]
     },
     "execution_count": 5,
     "metadata": {},
     "output_type": "execute_result"
    }
   ],
   "source": [
    "rho = 100\n",
    "alpha = 0.05\n",
    "d = 2\n",
    "rho_max = (np.sqrt(np.pi) * alpha)**(-d)\n",
    "assert rho <= rho_max\n",
    "\n",
    "# spatstat.core.dppGauss(lambda=, alpha=, d=)\n",
    "# However lambda is a reserved Python keyword\n",
    "# Let's circumvent the problem using a dictionnary\n",
    "params = {\"lambda\": rho, \"alpha\": alpha, \"d\": d}\n",
    "my_dpp = spatstat.core.dppGauss(**params)\n",
    "my_dpp"
   ]
  },
  {
   "cell_type": "markdown",
   "id": "c349cd07",
   "metadata": {},
   "source": [
    "#### Pair correlation function"
   ]
  },
  {
   "cell_type": "markdown",
   "id": "41fec9fe",
   "metadata": {
    "ExecuteTime": {
     "end_time": "2021-06-18T17:01:08.431323Z",
     "start_time": "2021-06-18T17:01:08.416223Z"
    }
   },
   "source": [
    "##### Theoretical pcf"
   ]
  },
  {
   "cell_type": "code",
   "execution_count": 6,
   "id": "62df1dd2",
   "metadata": {
    "ExecuteTime": {
     "end_time": "2021-06-21T05:46:41.127504Z",
     "start_time": "2021-06-21T05:46:41.109876Z"
    }
   },
   "outputs": [],
   "source": [
    "pcf = spatstat.core.pcfmodel(my_dpp)"
   ]
  },
  {
   "cell_type": "code",
   "execution_count": 7,
   "id": "2255ddf3",
   "metadata": {
    "ExecuteTime": {
     "end_time": "2021-06-21T05:46:41.294538Z",
     "start_time": "2021-06-21T05:46:41.130506Z"
    }
   },
   "outputs": [
    {
     "data": {
      "text/plain": [
       "(0.0, 0.15)"
      ]
     },
     "execution_count": 7,
     "metadata": {},
     "output_type": "execute_result"
    },
    {
     "data": {
      "image/png": "[encoded data removed]",
      "text/plain": [
       "<Figure size 432x288 with 1 Axes>"
      ]
     },
     "metadata": {
      "image/png": {
       "height": 248,
       "width": 372
      },
      "needs_background": "light"
     },
     "output_type": "display_data"
    }
   ],
   "source": [
    "numpy2ri.activate()  # to call pcf on a numpy array\n",
    "fig, ax = plt.subplots()\n",
    "r = np.linspace(0, 0.3, 1000)\n",
    "ax.plot(r, pcf(r))\n",
    "ax.set_xlim(0, 0.15)"
   ]
  },
  {
   "cell_type": "markdown",
   "id": "8bcec298",
   "metadata": {},
   "source": [
    "#### Simulation"
   ]
  },
  {
   "cell_type": "markdown",
   "id": "8f038a77",
   "metadata": {},
   "source": [
    "Define the window where the points will be sampled from"
   ]
  },
  {
   "cell_type": "code",
   "execution_count": 8,
   "id": "8e0d46e8",
   "metadata": {
    "ExecuteTime": {
     "end_time": "2021-06-21T05:46:41.321622Z",
     "start_time": "2021-06-21T05:46:41.297226Z"
    }
   },
   "outputs": [],
   "source": [
    "# using spatstat.geom.boxx\n",
    "numpy2ri.activate()\n",
    "bound = np.array([0, 2])\n",
    "window = spatstat.geom.boxx(bound, bound)\n",
    "\n",
    "# using spatstat.geom.owin\n",
    "bound = robjects.FloatVector([0, 2])\n",
    "window = spatstat.geom.owin(xrange=bound, yrange=bound)"
   ]
  },
  {
   "cell_type": "markdown",
   "id": "a2a0671e",
   "metadata": {},
   "source": [
    "Generate the sample using `spatstat.core.simulate_dppm`"
   ]
  },
  {
   "cell_type": "code",
   "execution_count": 9,
   "id": "11900401",
   "metadata": {
    "ExecuteTime": {
     "end_time": "2021-06-21T05:46:46.514388Z",
     "start_time": "2021-06-21T05:46:41.323145Z"
    }
   },
   "outputs": [
    {
     "data": {
      "text/html": [
       "\n",
       "        <span>ListVector with 5 elements.</span>\n",
       "        <table>\n",
       "        <tbody>\n",
       "        \n",
       "          <tr>\n",
       "            <th>\n",
       "            window\n",
       "            </th>\n",
       "            <td>\n",
       "            <rpy2.rinterface.ListSexpVector object at 0x7fdeca0139c0> [RTYPES.VECSXP]\n",
       "            </td>\n",
       "          </tr>\n",
       "        \n",
       "          <tr>\n",
       "            <th>\n",
       "            n\n",
       "            </th>\n",
       "            <td>\n",
       "            <rpy2.rinterface.IntSexpVector object at 0x7fdeca013380> [RTYPES.INTSXP]\n",
       "            </td>\n",
       "          </tr>\n",
       "        \n",
       "          <tr>\n",
       "            <th>\n",
       "            x\n",
       "            </th>\n",
       "            <td>\n",
       "            <rpy2.rinterface.FloatSexpVector object at 0x7fdeca013200> [RTYPES.REALSXP]\n",
       "            </td>\n",
       "          </tr>\n",
       "        \n",
       "          <tr>\n",
       "            <th>\n",
       "            y\n",
       "            </th>\n",
       "            <td>\n",
       "            <rpy2.rinterface.FloatSexpVector object at 0x7fdeca013a40> [RTYPES.REALSXP]\n",
       "            </td>\n",
       "          </tr>\n",
       "        \n",
       "          <tr>\n",
       "            <th>\n",
       "            markformat\n",
       "            </th>\n",
       "            <td>\n",
       "            <rpy2.rinterface_lib.sexp.StrSexpVector object at 0x7fdeca0132c0> [RTYPES.STRSXP]\n",
       "            </td>\n",
       "          </tr>\n",
       "        \n",
       "        </tbody>\n",
       "        </table>\n",
       "        "
      ],
      "text/plain": [
       "<rpy2.robjects.vectors.ListVector object at 0x7fdeca013140> [RTYPES.VECSXP]\n",
       "R classes: ('ppp',)\n",
       "[ListSex..., IntSexp..., FloatSe..., FloatSe..., StrSexp...]\n",
       "  window: <class 'rpy2.rinterface.ListSexpVector'>\n",
       "  <rpy2.rinterface.ListSexpVector object at 0x7fdeca013280> [RTYPES.VECSXP]\n",
       "  n: <class 'rpy2.rinterface.IntSexpVector'>\n",
       "  <rpy2.rinterface.IntSexpVector object at 0x7fdeca013480> [RTYPES.INTSXP]\n",
       "  x: <class 'rpy2.rinterface.FloatSexpVector'>\n",
       "  <rpy2.rinterface.FloatSexpVector object at 0x7fdeca013540> [RTYPES.REALSXP]\n",
       "  y: <class 'rpy2.rinterface.FloatSexpVector'>\n",
       "  <rpy2.rinterface.FloatSexpVector object at 0x7fdeca013700> [RTYPES.REALSXP]\n",
       "  markformat: <class 'rpy2.rinterface_lib.sexp.StrSexpVector'>\n",
       "  <rpy2.rinterface_lib.sexp.StrSexpVector object at 0x7fdeca013840> [RTYPES.STRSXP]"
      ]
     },
     "execution_count": 9,
     "metadata": {},
     "output_type": "execute_result"
    }
   ],
   "source": [
    "rsample = spatstat.core.simulate_dppm(my_dpp, W=window)\n",
    "rsample"
   ]
  },
  {
   "cell_type": "markdown",
   "id": "2541326f",
   "metadata": {
    "ExecuteTime": {
     "end_time": "2021-06-18T15:38:16.096064Z",
     "start_time": "2021-06-18T15:38:16.069474Z"
    }
   },
   "source": [
    "Convert spatstat sample to a numpy.array (as if the sample was generated or imported using Python)"
   ]
  },
  {
   "cell_type": "code",
   "execution_count": 10,
   "id": "47b69d01",
   "metadata": {
    "ExecuteTime": {
     "end_time": "2021-06-21T05:46:46.536051Z",
     "start_time": "2021-06-21T05:46:46.516201Z"
    }
   },
   "outputs": [
    {
     "data": {
      "text/plain": [
       "(2, 411)"
      ]
     },
     "execution_count": 10,
     "metadata": {},
     "output_type": "execute_result"
    }
   ],
   "source": [
    "sample = np.array([rsample.rx2(\"x\"), rsample.rx2(\"y\")])\n",
    "sample.shape"
   ]
  },
  {
   "cell_type": "markdown",
   "id": "b4fad657",
   "metadata": {},
   "source": [
    "Display the sample"
   ]
  },
  {
   "cell_type": "code",
   "execution_count": 11,
   "id": "71e76da6",
   "metadata": {
    "ExecuteTime": {
     "end_time": "2021-06-21T05:46:46.727985Z",
     "start_time": "2021-06-21T05:46:46.540014Z"
    }
   },
   "outputs": [
    {
     "data": {
      "image/png": "[encoded data removed]",
      "text/plain": [
       "<Figure size 576x576 with 1 Axes>"
      ]
     },
     "metadata": {
      "image/png": {
       "height": 465,
       "width": 473
      },
      "needs_background": "light"
     },
     "output_type": "display_data"
    }
   ],
   "source": [
    "fig, ax = plt.subplots(figsize=(8, 8))\n",
    "r = np.linspace(0, 0.3, 1000)\n",
    "ax.scatter(*sample) # equivalent to scatter(sample[0], sample[1])\n",
    "ax.set_aspect('equal', 'box')"
   ]
  },
  {
   "cell_type": "markdown",
   "id": "a4271c41",
   "metadata": {},
   "source": [
    "#### Estimation"
   ]
  },
  {
   "cell_type": "markdown",
   "id": "2c8b8133",
   "metadata": {},
   "source": [
    "From a sample generated by spatstat"
   ]
  },
  {
   "cell_type": "code",
   "execution_count": 12,
   "id": "b18ba974",
   "metadata": {
    "ExecuteTime": {
     "end_time": "2021-06-21T05:46:46.854608Z",
     "start_time": "2021-06-21T05:46:46.730984Z"
    }
   },
   "outputs": [
    {
     "data": {
      "text/html": [
       "<div>\n",
       "<style scoped>\n",
       "    .dataframe tbody tr th:only-of-type {\n",
       "        vertical-align: middle;\n",
       "    }\n",
       "\n",
       "    .dataframe tbody tr th {\n",
       "        vertical-align: top;\n",
       "    }\n",
       "\n",
       "    .dataframe thead th {\n",
       "        text-align: right;\n",
       "    }\n",
       "</style>\n",
       "<table border=\"1\" class=\"dataframe\">\n",
       "  <thead>\n",
       "    <tr style=\"text-align: right;\">\n",
       "      <th></th>\n",
       "      <th>r</th>\n",
       "      <th>theo</th>\n",
       "      <th>trans</th>\n",
       "      <th>iso</th>\n",
       "    </tr>\n",
       "  </thead>\n",
       "  <tbody>\n",
       "    <tr>\n",
       "      <th>1</th>\n",
       "      <td>0.000000</td>\n",
       "      <td>1.0</td>\n",
       "      <td>inf</td>\n",
       "      <td>inf</td>\n",
       "    </tr>\n",
       "    <tr>\n",
       "      <th>2</th>\n",
       "      <td>0.000977</td>\n",
       "      <td>1.0</td>\n",
       "      <td>0.255719</td>\n",
       "      <td>0.253961</td>\n",
       "    </tr>\n",
       "    <tr>\n",
       "      <th>3</th>\n",
       "      <td>0.001953</td>\n",
       "      <td>1.0</td>\n",
       "      <td>0.142367</td>\n",
       "      <td>0.141389</td>\n",
       "    </tr>\n",
       "    <tr>\n",
       "      <th>4</th>\n",
       "      <td>0.002930</td>\n",
       "      <td>1.0</td>\n",
       "      <td>0.104927</td>\n",
       "      <td>0.104200</td>\n",
       "    </tr>\n",
       "    <tr>\n",
       "      <th>5</th>\n",
       "      <td>0.003906</td>\n",
       "      <td>1.0</td>\n",
       "      <td>0.094276</td>\n",
       "      <td>0.093589</td>\n",
       "    </tr>\n",
       "    <tr>\n",
       "      <th>...</th>\n",
       "      <td>...</td>\n",
       "      <td>...</td>\n",
       "      <td>...</td>\n",
       "      <td>...</td>\n",
       "    </tr>\n",
       "    <tr>\n",
       "      <th>509</th>\n",
       "      <td>0.496094</td>\n",
       "      <td>1.0</td>\n",
       "      <td>0.950931</td>\n",
       "      <td>0.958100</td>\n",
       "    </tr>\n",
       "    <tr>\n",
       "      <th>510</th>\n",
       "      <td>0.497070</td>\n",
       "      <td>1.0</td>\n",
       "      <td>0.953443</td>\n",
       "      <td>0.959895</td>\n",
       "    </tr>\n",
       "    <tr>\n",
       "      <th>511</th>\n",
       "      <td>0.498047</td>\n",
       "      <td>1.0</td>\n",
       "      <td>0.956312</td>\n",
       "      <td>0.961881</td>\n",
       "    </tr>\n",
       "    <tr>\n",
       "      <th>512</th>\n",
       "      <td>0.499023</td>\n",
       "      <td>1.0</td>\n",
       "      <td>0.959220</td>\n",
       "      <td>0.963911</td>\n",
       "    </tr>\n",
       "    <tr>\n",
       "      <th>513</th>\n",
       "      <td>0.500000</td>\n",
       "      <td>1.0</td>\n",
       "      <td>0.962487</td>\n",
       "      <td>0.966251</td>\n",
       "    </tr>\n",
       "  </tbody>\n",
       "</table>\n",
       "<p>513 rows × 4 columns</p>\n",
       "</div>"
      ],
      "text/plain": [
       "            r  theo     trans       iso\n",
       "1    0.000000   1.0       inf       inf\n",
       "2    0.000977   1.0  0.255719  0.253961\n",
       "3    0.001953   1.0  0.142367  0.141389\n",
       "4    0.002930   1.0  0.104927  0.104200\n",
       "5    0.003906   1.0  0.094276  0.093589\n",
       "..        ...   ...       ...       ...\n",
       "509  0.496094   1.0  0.950931  0.958100\n",
       "510  0.497070   1.0  0.953443  0.959895\n",
       "511  0.498047   1.0  0.956312  0.961881\n",
       "512  0.499023   1.0  0.959220  0.963911\n",
       "513  0.500000   1.0  0.962487  0.966251\n",
       "\n",
       "[513 rows x 4 columns]"
      ]
     },
     "execution_count": 12,
     "metadata": {},
     "output_type": "execute_result"
    }
   ],
   "source": [
    "# If numpy2ri.activate() the output of spatstat.core.pcf is automatically converted to a numpy array \n",
    "# Otherwise it is an R DataFrame that we can convert to a pandas DataFrame\n",
    "numpy2ri.deactivate()\n",
    "pcf_r = spatstat.core.pcf_ppp(rsample)\n",
    "pcf_df = to_pandas_data_frame(pcf_r)\n",
    "pcf_df"
   ]
  },
  {
   "cell_type": "code",
   "execution_count": 13,
   "id": "f9e36bcb",
   "metadata": {
    "ExecuteTime": {
     "end_time": "2021-06-21T05:46:47.013481Z",
     "start_time": "2021-06-21T05:46:46.856795Z"
    }
   },
   "outputs": [
    {
     "data": {
      "text/plain": [
       "(0.0, 0.15)"
      ]
     },
     "execution_count": 13,
     "metadata": {},
     "output_type": "execute_result"
    },
    {
     "data": {
      "image/png": "[encoded data removed]",
      "text/plain": [
       "<Figure size 432x288 with 1 Axes>"
      ]
     },
     "metadata": {
      "image/png": {
       "height": 261,
       "width": 372
      },
      "needs_background": "light"
     },
     "output_type": "display_data"
    }
   ],
   "source": [
    "fig, ax = plt.subplots()\n",
    "r = np.linspace(0, 0.3, 1000)\n",
    "numpy2ri.activate()\n",
    "ax.plot(r, pcf(r))\n",
    "pcf_df.plot(\"r\", \"iso\", ax=ax)\n",
    "ax.set_xlim(0, 0.15)"
   ]
  },
  {
   "cell_type": "markdown",
   "id": "3937d771",
   "metadata": {},
   "source": [
    "From a sample stored in a numpy array"
   ]
  },
  {
   "cell_type": "code",
   "execution_count": 14,
   "id": "42ca3b8f",
   "metadata": {
    "ExecuteTime": {
     "end_time": "2021-06-21T05:46:47.133723Z",
     "start_time": "2021-06-21T05:46:47.015460Z"
    }
   },
   "outputs": [
    {
     "data": {
      "text/html": [
       "<div>\n",
       "<style scoped>\n",
       "    .dataframe tbody tr th:only-of-type {\n",
       "        vertical-align: middle;\n",
       "    }\n",
       "\n",
       "    .dataframe tbody tr th {\n",
       "        vertical-align: top;\n",
       "    }\n",
       "\n",
       "    .dataframe thead th {\n",
       "        text-align: right;\n",
       "    }\n",
       "</style>\n",
       "<table border=\"1\" class=\"dataframe\">\n",
       "  <thead>\n",
       "    <tr style=\"text-align: right;\">\n",
       "      <th></th>\n",
       "      <th>r</th>\n",
       "      <th>theo</th>\n",
       "      <th>trans</th>\n",
       "      <th>iso</th>\n",
       "    </tr>\n",
       "  </thead>\n",
       "  <tbody>\n",
       "    <tr>\n",
       "      <th>1</th>\n",
       "      <td>0.000000</td>\n",
       "      <td>1.0</td>\n",
       "      <td>inf</td>\n",
       "      <td>inf</td>\n",
       "    </tr>\n",
       "    <tr>\n",
       "      <th>2</th>\n",
       "      <td>0.000977</td>\n",
       "      <td>1.0</td>\n",
       "      <td>0.255719</td>\n",
       "      <td>0.253961</td>\n",
       "    </tr>\n",
       "    <tr>\n",
       "      <th>3</th>\n",
       "      <td>0.001953</td>\n",
       "      <td>1.0</td>\n",
       "      <td>0.142367</td>\n",
       "      <td>0.141389</td>\n",
       "    </tr>\n",
       "    <tr>\n",
       "      <th>4</th>\n",
       "      <td>0.002930</td>\n",
       "      <td>1.0</td>\n",
       "      <td>0.104927</td>\n",
       "      <td>0.104200</td>\n",
       "    </tr>\n",
       "    <tr>\n",
       "      <th>5</th>\n",
       "      <td>0.003906</td>\n",
       "      <td>1.0</td>\n",
       "      <td>0.094276</td>\n",
       "      <td>0.093589</td>\n",
       "    </tr>\n",
       "    <tr>\n",
       "      <th>...</th>\n",
       "      <td>...</td>\n",
       "      <td>...</td>\n",
       "      <td>...</td>\n",
       "      <td>...</td>\n",
       "    </tr>\n",
       "    <tr>\n",
       "      <th>509</th>\n",
       "      <td>0.496094</td>\n",
       "      <td>1.0</td>\n",
       "      <td>0.950931</td>\n",
       "      <td>0.958100</td>\n",
       "    </tr>\n",
       "    <tr>\n",
       "      <th>510</th>\n",
       "      <td>0.497070</td>\n",
       "      <td>1.0</td>\n",
       "      <td>0.953443</td>\n",
       "      <td>0.959895</td>\n",
       "    </tr>\n",
       "    <tr>\n",
       "      <th>511</th>\n",
       "      <td>0.498047</td>\n",
       "      <td>1.0</td>\n",
       "      <td>0.956312</td>\n",
       "      <td>0.961881</td>\n",
       "    </tr>\n",
       "    <tr>\n",
       "      <th>512</th>\n",
       "      <td>0.499023</td>\n",
       "      <td>1.0</td>\n",
       "      <td>0.959220</td>\n",
       "      <td>0.963911</td>\n",
       "    </tr>\n",
       "    <tr>\n",
       "      <th>513</th>\n",
       "      <td>0.500000</td>\n",
       "      <td>1.0</td>\n",
       "      <td>0.962487</td>\n",
       "      <td>0.966251</td>\n",
       "    </tr>\n",
       "  </tbody>\n",
       "</table>\n",
       "<p>513 rows × 4 columns</p>\n",
       "</div>"
      ],
      "text/plain": [
       "            r  theo     trans       iso\n",
       "1    0.000000   1.0       inf       inf\n",
       "2    0.000977   1.0  0.255719  0.253961\n",
       "3    0.001953   1.0  0.142367  0.141389\n",
       "4    0.002930   1.0  0.104927  0.104200\n",
       "5    0.003906   1.0  0.094276  0.093589\n",
       "..        ...   ...       ...       ...\n",
       "509  0.496094   1.0  0.950931  0.958100\n",
       "510  0.497070   1.0  0.953443  0.959895\n",
       "511  0.498047   1.0  0.956312  0.961881\n",
       "512  0.499023   1.0  0.959220  0.963911\n",
       "513  0.500000   1.0  0.962487  0.966251\n",
       "\n",
       "[513 rows x 4 columns]"
      ]
     },
     "execution_count": 14,
     "metadata": {},
     "output_type": "execute_result"
    }
   ],
   "source": [
    "numpy2ri.activate()\n",
    "# Each row of sample is associated to a coordinate, i.e., samples are stored columnwise\n",
    "X = spatstat.geom.ppp(*sample, window=window)\n",
    "numpy2ri.deactivate()\n",
    "pcf_r = spatstat.core.pcf_ppp(X)\n",
    "pcf_df = to_pandas_data_frame(pcf_r)\n",
    "pcf_df"
   ]
  },
  {
   "cell_type": "code",
   "execution_count": 15,
   "id": "0817711e",
   "metadata": {
    "ExecuteTime": {
     "end_time": "2021-06-21T05:46:47.288669Z",
     "start_time": "2021-06-21T05:46:47.135453Z"
    }
   },
   "outputs": [
    {
     "data": {
      "text/plain": [
       "(0.0, 0.15)"
      ]
     },
     "execution_count": 15,
     "metadata": {},
     "output_type": "execute_result"
    },
    {
     "data": {
      "image/png": "[encoded data removed]",
      "text/plain": [
       "<Figure size 432x288 with 1 Axes>"
      ]
     },
     "metadata": {
      "image/png": {
       "height": 261,
       "width": 372
      },
      "needs_background": "light"
     },
     "output_type": "display_data"
    }
   ],
   "source": [
    "fig, ax = plt.subplots()\n",
    "r = np.linspace(0, 0.3, 1000)\n",
    "numpy2ri.activate()\n",
    "ax.plot(r, pcf(r))\n",
    "pcf_df.plot(\"r\", \"iso\", ax=ax)\n",
    "ax.set_xlim(0, 0.15)"
   ]
  },
  {
   "cell_type": "markdown",
   "id": "4b54d26d",
   "metadata": {},
   "source": [
    "#### Kernel parameter estimation for a sample"
   ]
  },
  {
   "cell_type": "code",
   "execution_count": 16,
   "id": "c5448303",
   "metadata": {
    "ExecuteTime": {
     "end_time": "2021-06-21T05:46:47.304390Z",
     "start_time": "2021-06-21T05:46:47.290432Z"
    }
   },
   "outputs": [],
   "source": [
    "def convert_to_dict(x):\n",
    "    return dict(zip(x.names, x))"
   ]
  },
  {
   "cell_type": "markdown",
   "id": "efe6e453",
   "metadata": {},
   "source": [
    "Recall the parameters of the original DPP"
   ]
  },
  {
   "cell_type": "code",
   "execution_count": 17,
   "id": "c07841ae",
   "metadata": {
    "ExecuteTime": {
     "end_time": "2021-06-21T05:46:47.324042Z",
     "start_time": "2021-06-21T05:46:47.306573Z"
    }
   },
   "outputs": [
    {
     "data": {
      "text/plain": [
       "{'lambda': array([100], dtype=int32),\n",
       " 'alpha': array([0.05]),\n",
       " 'd': array([2], dtype=int32)}"
      ]
     },
     "execution_count": 17,
     "metadata": {},
     "output_type": "execute_result"
    }
   ],
   "source": [
    "params = convert_to_dict(my_dpp.rx2(\"fixedpar\"))\n",
    "params"
   ]
  },
  {
   "cell_type": "markdown",
   "id": "ef5fa0ea",
   "metadata": {},
   "source": [
    "Fit a DPP from a sample"
   ]
  },
  {
   "cell_type": "code",
   "execution_count": 18,
   "id": "3adca7a5",
   "metadata": {
    "ExecuteTime": {
     "end_time": "2021-06-21T05:46:47.783907Z",
     "start_time": "2021-06-21T05:46:47.325469Z"
    },
    "scrolled": true
   },
   "outputs": [
    {
     "data": {
      "text/plain": [
       "{'alpha': array([0.05565883]), 'lambda': array([102.75]), 'd': array([2.])}"
      ]
     },
     "execution_count": 18,
     "metadata": {},
     "output_type": "execute_result"
    }
   ],
   "source": [
    "dpp_family = spatstat.core.dppGauss\n",
    "formula = robjects.Formula(\"X ~ 1\")\n",
    "formula.environment[\"X\"] = rsample\n",
    "\n",
    "my_dpp_fitted = spatstat.core.dppm(formula=formula, family=dpp_family).rx2(\"fitted\")\n",
    "fitted_params = convert_to_dict(my_dpp_fitted.rx2(\"fixedpar\"))\n",
    "fitted_params"
   ]
  },
  {
   "cell_type": "code",
   "execution_count": 19,
   "id": "4014fe29",
   "metadata": {
    "ExecuteTime": {
     "end_time": "2021-06-21T05:46:47.803174Z",
     "start_time": "2021-06-21T05:46:47.785354Z"
    }
   },
   "outputs": [],
   "source": [
    "pcf_fitted_dpp = spatstat.core.pcfmodel(my_dpp_fitted)"
   ]
  },
  {
   "cell_type": "markdown",
   "id": "ac04e099",
   "metadata": {},
   "source": [
    "Let's have a look at the correlation function."
   ]
  },
  {
   "cell_type": "code",
   "execution_count": 20,
   "id": "de12616e",
   "metadata": {
    "ExecuteTime": {
     "end_time": "2021-06-21T05:46:48.025048Z",
     "start_time": "2021-06-21T05:46:47.805445Z"
    }
   },
   "outputs": [
    {
     "data": {
      "text/plain": [
       "<matplotlib.legend.Legend at 0x7fdeca0fdee0>"
      ]
     },
     "execution_count": 20,
     "metadata": {},
     "output_type": "execute_result"
    },
    {
     "data": {
      "image/png": "[encoded data removed]",
      "text/plain": [
       "<Figure size 432x288 with 1 Axes>"
      ]
     },
     "metadata": {
      "image/png": {
       "height": 261,
       "width": 372
      },
      "needs_background": "light"
     },
     "output_type": "display_data"
    }
   ],
   "source": [
    "fig, ax = plt.subplots()\n",
    "\n",
    "r = np.linspace(0, 0.3, 1000)\n",
    "numpy2ri.activate()\n",
    "ax.plot(r, pcf(r), label=\"original dpp\")\n",
    "pcf_df.plot(\"r\", \"iso\", ax=ax, label=\"empirical\")\n",
    "ax.plot(r, pcf_fitted_dpp(r), label=\"fitted dpp\")\n",
    "\n",
    "ax.set_xlim(0, 0.15)\n",
    "plt.legend()"
   ]
  }
 ],
 "metadata": {
  "interpreter": {
   "hash": "f40181adaac928a8c462dcace3ade48b65387b34c03b21cd2629729f6f0f5df4"
  },
  "kernelspec": {
   "display_name": "Python 3.8.5 64-bit ('.venv': poetry)",
   "name": "python3"
  },
  "language_info": {
   "codemirror_mode": {
    "name": "ipython",
    "version": 3
   },
   "file_extension": ".py",
   "mimetype": "text/x-python",
   "name": "python",
   "nbconvert_exporter": "python",
   "pygments_lexer": "ipython3",
   "version": "3.8.5"
  },
  "toc": {
   "base_numbering": 1,
   "nav_menu": {},
   "number_sections": true,
   "sideBar": true,
   "skip_h1_title": false,
   "title_cell": "Table of Contents",
   "title_sidebar": "Contents",
   "toc_cell": true,
   "toc_position": {
    "height": "calc(100% - 180px)",
    "left": "10px",
    "top": "150px",
    "width": "213.4px"
   },
   "toc_section_display": true,
   "toc_window_display": true
  }
 },
 "nbformat": 4,
 "nbformat_minor": 5
}
