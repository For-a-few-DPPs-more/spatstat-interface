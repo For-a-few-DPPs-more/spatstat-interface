{
 "cells": [
  {
   "cell_type": "markdown",
   "id": "ce8b56d2",
   "metadata": {
    "toc": true
   },
   "source": [
    "<h1>Table of Contents<span class=\"tocSkip\"></span></h1>\n",
    "<div class=\"toc\"><ul class=\"toc-item\"><li><span><a href=\"#Spatstat-playground\" data-toc-modified-id=\"Spatstat-playground-1\"><span class=\"toc-item-num\">1&nbsp;&nbsp;</span>Spatstat playground</a></span><ul class=\"toc-item\"><li><span><a href=\"#Get-the-package\" data-toc-modified-id=\"Get-the-package-1.1\"><span class=\"toc-item-num\">1.1&nbsp;&nbsp;</span>Get the package</a></span></li><li><span><a href=\"#DPPs-with-stationnary-isotropic-kernels\" data-toc-modified-id=\"DPPs-with-stationnary-isotropic-kernels-1.2\"><span class=\"toc-item-num\">1.2&nbsp;&nbsp;</span>DPPs with stationnary isotropic kernels</a></span><ul class=\"toc-item\"><li><span><a href=\"#Gaussian-kernel\" data-toc-modified-id=\"Gaussian-kernel-1.2.1\"><span class=\"toc-item-num\">1.2.1&nbsp;&nbsp;</span>Gaussian kernel</a></span><ul class=\"toc-item\"><li><span><a href=\"#Pair-correlation-function\" data-toc-modified-id=\"Pair-correlation-function-1.2.1.1\"><span class=\"toc-item-num\">1.2.1.1&nbsp;&nbsp;</span>Pair correlation function</a></span></li><li><span><a href=\"#Simulation\" data-toc-modified-id=\"Simulation-1.2.1.2\"><span class=\"toc-item-num\">1.2.1.2&nbsp;&nbsp;</span>Simulation</a></span></li><li><span><a href=\"#Estimation\" data-toc-modified-id=\"Estimation-1.2.1.3\"><span class=\"toc-item-num\">1.2.1.3&nbsp;&nbsp;</span>Estimation</a></span></li><li><span><a href=\"#Kernel-parameter-estimation-for-a-sample\" data-toc-modified-id=\"Kernel-parameter-estimation-for-a-sample-1.2.1.4\"><span class=\"toc-item-num\">1.2.1.4&nbsp;&nbsp;</span>Kernel parameter estimation for a sample</a></span></li></ul></li></ul></li></ul></li></ul></div>"
   ]
  },
  {
   "cell_type": "markdown",
   "id": "87a29008",
   "metadata": {},
   "source": [
    "# Spatstat playground\n",
    "\n",
    "**First session Friday 06/18/2021** https://github.com/For-a-few-DPPs-more/spatstat-interface\n",
    "\n",
    "Let's take Determinantal Point Processes (DPPs) as a running example to play with the [`spatstat`](https://spatstat.org/) (Spatial Statistics) R package from Python!\n",
    "More specifically, we'll perform both sampling and inference on DPPs using `spatstat`.\n",
    "\n",
    "To do this, one can use the Python package [`rpy2`](https://rpy2.github.io/doc/v3.4.x/html/overview.html#installation) to ensure the interoperability with [`R`](https://www.r-project.org/).\n",
    "In other words, `rpy2` allows us to call `R` from `Python`.\n",
    "\n",
    "`spatstat` has been split into multiple subpackages and extensions, see [`spatstat` GitHub repo](https://github.com/spatstat/spatstat).\n",
    "In this notebook will make use of\n",
    "- [spatstat.core](https://www.rdocumentation.org/packages/spatstat.core/versions/2.2-0)\n",
    "- [spatstat.geom](https://www.rdocumentation.org/packages/spatstat.core/versions/2.2-0)"
   ]
  },
  {
   "cell_type": "markdown",
   "id": "b0c935d4",
   "metadata": {},
   "source": [
    "## Get the package\n",
    "\n",
    "See the [Installation](https://github.com/For-a-few-DPPs-more/spatstat-interface/blob/main/README.md#installation) section on [GitHub](https://github.com/For-a-few-DPPs-more/spatstat-interface/)"
   ]
  },
  {
   "cell_type": "code",
   "execution_count": null,
   "id": "a0bb8888",
   "metadata": {
    "ExecuteTime": {
     "end_time": "2021-06-21T05:46:24.692873Z",
     "start_time": "2021-06-21T05:46:24.672092Z"
    }
   },
   "outputs": [],
   "source": [
    "# %load_ext autoreload\n",
    "# %autoreload 2\n",
    "# import os\n",
    "# import sys\n",
    "# sys.path.insert(0, os.path.abspath('../src/'))"
   ]
  },
  {
   "cell_type": "code",
   "execution_count": null,
   "id": "1fc6aaef",
   "metadata": {
    "ExecuteTime": {
     "end_time": "2021-06-21T05:46:24.669102Z",
     "start_time": "2021-06-21T05:46:23.572093Z"
    }
   },
   "outputs": [],
   "source": [
    "import numpy as np\n",
    "import matplotlib.pyplot as plt\n",
    "%config InlineBackend.figure_format='retina'\n",
    "import pandas as pd\n",
    "\n",
    "import rpy2.robjects as robjects\n",
    "# Activate automatic conversion of numpy floats and arrays to corresponding R objects\n",
    "from rpy2.robjects import numpy2ri\n",
    "numpy2ri.activate() #numpy2ri.deactivate()"
   ]
  },
  {
   "cell_type": "code",
   "execution_count": null,
   "id": "6ae1a59c",
   "metadata": {
    "ExecuteTime": {
     "end_time": "2021-06-21T05:46:41.075824Z",
     "start_time": "2021-06-21T05:46:24.696559Z"
    }
   },
   "outputs": [],
   "source": [
    "from spatstat_interface.utils import convert_r_df_to_pandas_df\n",
    "from spatstat_interface.interface import SpatstatInterface\n",
    "\n",
    "spatstat = SpatstatInterface(update=True)\n",
    "spatstat.import_package(\"core\", \"geom\", update=False)"
   ]
  },
  {
   "cell_type": "markdown",
   "id": "853f5e52",
   "metadata": {},
   "source": [
    "## DPPs with stationnary isotropic kernels"
   ]
  },
  {
   "cell_type": "markdown",
   "id": "9e2ebff9",
   "metadata": {},
   "source": [
    "### Gaussian kernel\n",
    "\n",
    "$K(x, y) = \\rho \\exp(−\\|\\frac{x - y}{\\alpha}\\|^2)$\n",
    "\n",
    "$\\rho_{\\max} = \\left(\\sqrt{\\pi} \\alpha\\right)^{-d}$"
   ]
  },
  {
   "cell_type": "code",
   "execution_count": null,
   "id": "224b12fd",
   "metadata": {
    "ExecuteTime": {
     "end_time": "2021-06-21T05:46:41.107878Z",
     "start_time": "2021-06-21T05:46:41.078459Z"
    }
   },
   "outputs": [],
   "source": [
    "rho = 100\n",
    "alpha = 0.05\n",
    "d = 2\n",
    "rho_max = (np.sqrt(np.pi) * alpha)**(-d)\n",
    "assert rho <= rho_max\n",
    "\n",
    "# spatstat.core.dppGauss(lambda=, alpha=, d=)\n",
    "# However lambda is a reserved Python keyword\n",
    "# Let's circumvent the problem using a dictionnary\n",
    "params = {\"lambda\": rho, \"alpha\": alpha, \"d\": d}\n",
    "my_dpp = spatstat.core.dppGauss(**params)\n",
    "my_dpp"
   ]
  },
  {
   "cell_type": "markdown",
   "id": "9b7ed767",
   "metadata": {},
   "source": [
    "#### Pair correlation function"
   ]
  },
  {
   "cell_type": "markdown",
   "id": "aaa5f972",
   "metadata": {
    "ExecuteTime": {
     "end_time": "2021-06-18T17:01:08.431323Z",
     "start_time": "2021-06-18T17:01:08.416223Z"
    }
   },
   "source": [
    "##### Theoretical pcf"
   ]
  },
  {
   "cell_type": "code",
   "execution_count": null,
   "id": "4f8f8967",
   "metadata": {
    "ExecuteTime": {
     "end_time": "2021-06-21T05:46:41.127504Z",
     "start_time": "2021-06-21T05:46:41.109876Z"
    }
   },
   "outputs": [],
   "source": [
    "pcf = spatstat.core.pcfmodel(my_dpp)"
   ]
  },
  {
   "cell_type": "code",
   "execution_count": null,
   "id": "0d990557",
   "metadata": {
    "ExecuteTime": {
     "end_time": "2021-06-21T05:46:41.294538Z",
     "start_time": "2021-06-21T05:46:41.130506Z"
    }
   },
   "outputs": [],
   "source": [
    "numpy2ri.activate()  # to call pcf on a numpy array\n",
    "fig, ax = plt.subplots()\n",
    "r = np.linspace(0, 0.3, 1000)\n",
    "ax.plot(r, pcf(r))\n",
    "ax.set_xlim(0, 0.15)"
   ]
  },
  {
   "cell_type": "markdown",
   "id": "73843f29",
   "metadata": {},
   "source": [
    "#### Simulation"
   ]
  },
  {
   "cell_type": "markdown",
   "id": "85efcd57",
   "metadata": {},
   "source": [
    "Define the window where the points will be sampled from"
   ]
  },
  {
   "cell_type": "code",
   "execution_count": null,
   "id": "50f8334d",
   "metadata": {
    "ExecuteTime": {
     "end_time": "2021-06-21T05:46:41.321622Z",
     "start_time": "2021-06-21T05:46:41.297226Z"
    }
   },
   "outputs": [],
   "source": [
    "# using spatstat.geom.boxx\n",
    "numpy2ri.activate()\n",
    "bound = np.array([0, 2])\n",
    "window = spatstat.geom.boxx(bound, bound)\n",
    "\n",
    "# using spatstat.geom.owin\n",
    "bound = robjects.FloatVector([0, 2])\n",
    "window = spatstat.geom.owin(xrange=bound, yrange=bound)"
   ]
  },
  {
   "cell_type": "markdown",
   "id": "a0c6c893",
   "metadata": {},
   "source": [
    "Generate the sample using `spatstat.core.simulate_dppm`"
   ]
  },
  {
   "cell_type": "code",
   "execution_count": null,
   "id": "b29fe47d",
   "metadata": {
    "ExecuteTime": {
     "end_time": "2021-06-21T05:46:46.514388Z",
     "start_time": "2021-06-21T05:46:41.323145Z"
    }
   },
   "outputs": [],
   "source": [
    "rsample = spatstat.core.simulate_dppm(my_dpp, W=window)\n",
    "rsample"
   ]
  },
  {
   "cell_type": "markdown",
   "id": "431264ba",
   "metadata": {
    "ExecuteTime": {
     "end_time": "2021-06-18T15:38:16.096064Z",
     "start_time": "2021-06-18T15:38:16.069474Z"
    }
   },
   "source": [
    "Convert spatstat sample to a numpy.array (as if the sample was generated or imported using Python)"
   ]
  },
  {
   "cell_type": "code",
   "execution_count": null,
   "id": "8f156c0c",
   "metadata": {
    "ExecuteTime": {
     "end_time": "2021-06-21T05:46:46.536051Z",
     "start_time": "2021-06-21T05:46:46.516201Z"
    }
   },
   "outputs": [],
   "source": [
    "sample = np.array([rsample.rx2(\"x\"), rsample.rx2(\"y\")])\n",
    "sample.shape"
   ]
  },
  {
   "cell_type": "markdown",
   "id": "0e500451",
   "metadata": {},
   "source": [
    "Display the sample"
   ]
  },
  {
   "cell_type": "code",
   "execution_count": null,
   "id": "87f272da",
   "metadata": {
    "ExecuteTime": {
     "end_time": "2021-06-21T05:46:46.727985Z",
     "start_time": "2021-06-21T05:46:46.540014Z"
    }
   },
   "outputs": [],
   "source": [
    "fig, ax = plt.subplots(figsize=(8, 8))\n",
    "r = np.linspace(0, 0.3, 1000)\n",
    "ax.scatter(*sample) # equivalent to scatter(sample[0], sample[1])\n",
    "ax.set_aspect('equal', 'box')"
   ]
  },
  {
   "cell_type": "markdown",
   "id": "1247fb2c",
   "metadata": {},
   "source": [
    "#### Estimation"
   ]
  },
  {
   "cell_type": "markdown",
   "id": "bf61e786",
   "metadata": {},
   "source": [
    "From a sample generated by spatstat"
   ]
  },
  {
   "cell_type": "code",
   "execution_count": null,
   "id": "525b791b",
   "metadata": {
    "ExecuteTime": {
     "end_time": "2021-06-21T05:46:46.854608Z",
     "start_time": "2021-06-21T05:46:46.730984Z"
    }
   },
   "outputs": [],
   "source": [
    "# If numpy2ri.activate() the output of spatstat.core.pcf is automatically converted to a numpy array \n",
    "# Otherwise it is an R DataFrame that we can convert to a pandas DataFrame\n",
    "numpy2ri.deactivate()\n",
    "pcf_r = spatstat.core.pcf_ppp(rsample)\n",
    "pcf_df = convert_r_df_to_pandas_df(pcf_r)\n",
    "pcf_df"
   ]
  },
  {
   "cell_type": "code",
   "execution_count": null,
   "id": "0e0ba09e",
   "metadata": {
    "ExecuteTime": {
     "end_time": "2021-06-21T05:46:47.013481Z",
     "start_time": "2021-06-21T05:46:46.856795Z"
    }
   },
   "outputs": [],
   "source": [
    "fig, ax = plt.subplots()\n",
    "r = np.linspace(0, 0.3, 1000)\n",
    "numpy2ri.activate()\n",
    "ax.plot(r, pcf(r))\n",
    "pcf_df.plot(\"r\", \"iso\", ax=ax)\n",
    "ax.set_xlim(0, 0.15)"
   ]
  },
  {
   "cell_type": "markdown",
   "id": "62de39ed",
   "metadata": {},
   "source": [
    "From a sample stored in a numpy array"
   ]
  },
  {
   "cell_type": "code",
   "execution_count": null,
   "id": "e6d875d4",
   "metadata": {
    "ExecuteTime": {
     "end_time": "2021-06-21T05:46:47.133723Z",
     "start_time": "2021-06-21T05:46:47.015460Z"
    }
   },
   "outputs": [],
   "source": [
    "numpy2ri.activate()\n",
    "# Each row of sample is associated to a coordinate, i.e., samples are stored columnwise\n",
    "X = spatstat.geom.ppp(*sample, window=window)\n",
    "numpy2ri.deactivate()\n",
    "pcf_r = spatstat.core.pcf_ppp(X)\n",
    "pcf_df = convert_r_df_to_pandas_df(pcf_r)\n",
    "pcf_df"
   ]
  },
  {
   "cell_type": "code",
   "execution_count": null,
   "id": "25d51ea6",
   "metadata": {
    "ExecuteTime": {
     "end_time": "2021-06-21T05:46:47.288669Z",
     "start_time": "2021-06-21T05:46:47.135453Z"
    }
   },
   "outputs": [],
   "source": [
    "fig, ax = plt.subplots()\n",
    "r = np.linspace(0, 0.3, 1000)\n",
    "numpy2ri.activate()\n",
    "ax.plot(r, pcf(r))\n",
    "pcf_df.plot(\"r\", \"iso\", ax=ax)\n",
    "ax.set_xlim(0, 0.15)"
   ]
  },
  {
   "cell_type": "markdown",
   "id": "31f34d89",
   "metadata": {},
   "source": [
    "#### Kernel parameter estimation for a sample"
   ]
  },
  {
   "cell_type": "code",
   "execution_count": null,
   "id": "69f72f3d",
   "metadata": {
    "ExecuteTime": {
     "end_time": "2021-06-21T05:46:47.304390Z",
     "start_time": "2021-06-21T05:46:47.290432Z"
    }
   },
   "outputs": [],
   "source": [
    "def convert_to_dict(x):\n",
    "    return dict(zip(x.names, x))"
   ]
  },
  {
   "cell_type": "markdown",
   "id": "f7eb9ecc",
   "metadata": {},
   "source": [
    "Recall the parameters of the original DPP"
   ]
  },
  {
   "cell_type": "code",
   "execution_count": null,
   "id": "08967b6c",
   "metadata": {
    "ExecuteTime": {
     "end_time": "2021-06-21T05:46:47.324042Z",
     "start_time": "2021-06-21T05:46:47.306573Z"
    }
   },
   "outputs": [],
   "source": [
    "params = convert_to_dict(my_dpp.rx2(\"fixedpar\"))\n",
    "params"
   ]
  },
  {
   "cell_type": "markdown",
   "id": "2176f9d2",
   "metadata": {},
   "source": [
    "Fit a DPP from a sample"
   ]
  },
  {
   "cell_type": "code",
   "execution_count": null,
   "id": "f62eb1a3",
   "metadata": {
    "ExecuteTime": {
     "end_time": "2021-06-21T05:46:47.783907Z",
     "start_time": "2021-06-21T05:46:47.325469Z"
    },
    "scrolled": true
   },
   "outputs": [],
   "source": [
    "dpp_family = spatstat.core.dppGauss\n",
    "formula = robjects.Formula(\"X ~ 1\")\n",
    "formula.environment[\"X\"] = rsample\n",
    "\n",
    "my_dpp_fitted = spatstat.core.dppm(formula=formula, family=dpp_family).rx2(\"fitted\")\n",
    "fitted_params = convert_to_dict(my_dpp_fitted.rx2(\"fixedpar\"))\n",
    "fitted_params"
   ]
  },
  {
   "cell_type": "code",
   "execution_count": null,
   "id": "b7170d49",
   "metadata": {
    "ExecuteTime": {
     "end_time": "2021-06-21T05:46:47.803174Z",
     "start_time": "2021-06-21T05:46:47.785354Z"
    }
   },
   "outputs": [],
   "source": [
    "pcf_fitted_dpp = spatstat.core.pcfmodel(my_dpp_fitted)"
   ]
  },
  {
   "cell_type": "markdown",
   "id": "b3df22fe",
   "metadata": {},
   "source": [
    "Let's have a look at the correlation function."
   ]
  },
  {
   "cell_type": "code",
   "execution_count": null,
   "id": "780400e8",
   "metadata": {
    "ExecuteTime": {
     "end_time": "2021-06-21T05:46:48.025048Z",
     "start_time": "2021-06-21T05:46:47.805445Z"
    }
   },
   "outputs": [],
   "source": [
    "fig, ax = plt.subplots()\n",
    "\n",
    "r = np.linspace(0, 0.3, 1000)\n",
    "numpy2ri.activate()\n",
    "ax.plot(r, pcf(r), label=\"original dpp\")\n",
    "pcf_df.plot(\"r\", \"iso\", ax=ax, label=\"empirical\")\n",
    "ax.plot(r, pcf_fitted_dpp(r), label=\"fitted dpp\")\n",
    "\n",
    "ax.set_xlim(0, 0.15)\n",
    "plt.legend()"
   ]
  },
  {
   "cell_type": "code",
   "execution_count": null,
   "id": "d91ef096",
   "metadata": {},
   "outputs": [],
   "source": []
  }
 ],
 "metadata": {
  "kernelspec": {
   "name": "python3",
   "display_name": "Python 3.8.5 64-bit ('.venv': venv)"
  },
  "language_info": {
   "codemirror_mode": {
    "name": "ipython",
    "version": 3
   },
   "file_extension": ".py",
   "mimetype": "text/x-python",
   "name": "python",
   "nbconvert_exporter": "python",
   "pygments_lexer": "ipython3",
   "version": "3.8.5"
  },
  "toc": {
   "base_numbering": 1,
   "nav_menu": {},
   "number_sections": true,
   "sideBar": true,
   "skip_h1_title": false,
   "title_cell": "Table of Contents",
   "title_sidebar": "Contents",
   "toc_cell": true,
   "toc_position": {
    "height": "calc(100% - 180px)",
    "left": "10px",
    "top": "150px",
    "width": "213.4px"
   },
   "toc_section_display": true,
   "toc_window_display": true
  },
  "interpreter": {
   "hash": "ba71c41d987a42af84bc9e291d2f7ba734204bb486bea64624a1c3f58c43a264"
  }
 },
 "nbformat": 4,
 "nbformat_minor": 5
}